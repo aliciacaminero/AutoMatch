{
 "cells": [
  {
   "cell_type": "code",
   "execution_count": 91,
   "metadata": {},
   "outputs": [],
   "source": [
    "import pandas as pd\n",
    "import numpy as np\n",
    "import matplotlib.pyplot as plt\n",
    "import seaborn as sns\n",
    "import re\n",
    "import itertools\n",
    "from sklearn.model_selection import train_test_split, GridSearchCV, RepeatedKFold, cross_val_score\n",
    "from sklearn.preprocessing import StandardScaler, OneHotEncoder, RobustScaler\n",
    "from sklearn.compose import ColumnTransformer\n",
    "from sklearn.pipeline import Pipeline\n",
    "from sklearn.ensemble import RandomForestRegressor, GradientBoostingRegressor, VotingRegressor\n",
    "from sklearn.metrics import mean_squared_error, mean_absolute_error, r2_score\n",
    "from sklearn.impute import SimpleImputer\n",
    "from xgboost import XGBRegressor"
   ]
  },
  {
   "cell_type": "code",
   "execution_count": 92,
   "metadata": {},
   "outputs": [
    {
     "data": {
      "application/vnd.microsoft.datawrangler.viewer.v0+json": {
       "columns": [
        {
         "name": "index",
         "rawType": "int64",
         "type": "integer"
        },
        {
         "name": "make",
         "rawType": "object",
         "type": "string"
        },
        {
         "name": "model",
         "rawType": "object",
         "type": "string"
        },
        {
         "name": "version",
         "rawType": "object",
         "type": "string"
        },
        {
         "name": "fuel",
         "rawType": "object",
         "type": "string"
        },
        {
         "name": "year",
         "rawType": "int64",
         "type": "integer"
        },
        {
         "name": "kms",
         "rawType": "float64",
         "type": "float"
        },
        {
         "name": "power",
         "rawType": "float64",
         "type": "float"
        },
        {
         "name": "shift",
         "rawType": "object",
         "type": "string"
        },
        {
         "name": "price",
         "rawType": "int64",
         "type": "integer"
        }
       ],
       "conversionMethod": "pd.DataFrame",
       "ref": "11232edd-cd2b-4f67-a49b-961950aeef0e",
       "rows": [
        [
         "0",
         "Opel",
         "Crossland",
         "1.2 GAS 110 GS Line 5p S/S",
         "Gasolina",
         "2022",
         "5.0",
         "110.0",
         "manual",
         "22900"
        ],
        [
         "1",
         "Opel",
         "Crossland",
         "1.2 81kW (110CV) GS Line",
         "Gasolina",
         "2022",
         "24847.0",
         "110.0",
         "manual",
         "19990"
        ],
        [
         "2",
         "Opel",
         "Crossland",
         "1.5D 88kW (120CV) Business Elegance Auto",
         "Diésel",
         "2021",
         "41356.0",
         "120.0",
         "automatic",
         "18590"
        ],
        [
         "3",
         "Opel",
         "Crossland",
         "GS-Line 1.2 GAS MT6 S/S 110cv",
         "Gasolina",
         "2022",
         "11.0",
         "110.0",
         "manual",
         "22700"
        ],
        [
         "4",
         "Opel",
         "Crossland",
         "1.2 GS LINE 110 CV 5P",
         "Gasolina",
         "2021",
         "51390.0",
         "110.0",
         "manual",
         "18200"
        ]
       ],
       "shape": {
        "columns": 9,
        "rows": 5
       }
      },
      "text/html": [
       "<div>\n",
       "<style scoped>\n",
       "    .dataframe tbody tr th:only-of-type {\n",
       "        vertical-align: middle;\n",
       "    }\n",
       "\n",
       "    .dataframe tbody tr th {\n",
       "        vertical-align: top;\n",
       "    }\n",
       "\n",
       "    .dataframe thead th {\n",
       "        text-align: right;\n",
       "    }\n",
       "</style>\n",
       "<table border=\"1\" class=\"dataframe\">\n",
       "  <thead>\n",
       "    <tr style=\"text-align: right;\">\n",
       "      <th></th>\n",
       "      <th>make</th>\n",
       "      <th>model</th>\n",
       "      <th>version</th>\n",
       "      <th>fuel</th>\n",
       "      <th>year</th>\n",
       "      <th>kms</th>\n",
       "      <th>power</th>\n",
       "      <th>shift</th>\n",
       "      <th>price</th>\n",
       "    </tr>\n",
       "  </thead>\n",
       "  <tbody>\n",
       "    <tr>\n",
       "      <th>0</th>\n",
       "      <td>Opel</td>\n",
       "      <td>Crossland</td>\n",
       "      <td>1.2 GAS 110 GS Line 5p S/S</td>\n",
       "      <td>Gasolina</td>\n",
       "      <td>2022</td>\n",
       "      <td>5.0</td>\n",
       "      <td>110.0</td>\n",
       "      <td>manual</td>\n",
       "      <td>22900</td>\n",
       "    </tr>\n",
       "    <tr>\n",
       "      <th>1</th>\n",
       "      <td>Opel</td>\n",
       "      <td>Crossland</td>\n",
       "      <td>1.2 81kW (110CV) GS Line</td>\n",
       "      <td>Gasolina</td>\n",
       "      <td>2022</td>\n",
       "      <td>24847.0</td>\n",
       "      <td>110.0</td>\n",
       "      <td>manual</td>\n",
       "      <td>19990</td>\n",
       "    </tr>\n",
       "    <tr>\n",
       "      <th>2</th>\n",
       "      <td>Opel</td>\n",
       "      <td>Crossland</td>\n",
       "      <td>1.5D 88kW (120CV) Business Elegance Auto</td>\n",
       "      <td>Diésel</td>\n",
       "      <td>2021</td>\n",
       "      <td>41356.0</td>\n",
       "      <td>120.0</td>\n",
       "      <td>automatic</td>\n",
       "      <td>18590</td>\n",
       "    </tr>\n",
       "    <tr>\n",
       "      <th>3</th>\n",
       "      <td>Opel</td>\n",
       "      <td>Crossland</td>\n",
       "      <td>GS-Line 1.2 GAS MT6 S/S 110cv</td>\n",
       "      <td>Gasolina</td>\n",
       "      <td>2022</td>\n",
       "      <td>11.0</td>\n",
       "      <td>110.0</td>\n",
       "      <td>manual</td>\n",
       "      <td>22700</td>\n",
       "    </tr>\n",
       "    <tr>\n",
       "      <th>4</th>\n",
       "      <td>Opel</td>\n",
       "      <td>Crossland</td>\n",
       "      <td>1.2 GS LINE 110 CV 5P</td>\n",
       "      <td>Gasolina</td>\n",
       "      <td>2021</td>\n",
       "      <td>51390.0</td>\n",
       "      <td>110.0</td>\n",
       "      <td>manual</td>\n",
       "      <td>18200</td>\n",
       "    </tr>\n",
       "  </tbody>\n",
       "</table>\n",
       "</div>"
      ],
      "text/plain": [
       "   make      model                                   version      fuel  year  \\\n",
       "0  Opel  Crossland                1.2 GAS 110 GS Line 5p S/S  Gasolina  2022   \n",
       "1  Opel  Crossland                  1.2 81kW (110CV) GS Line  Gasolina  2022   \n",
       "2  Opel  Crossland  1.5D 88kW (120CV) Business Elegance Auto    Diésel  2021   \n",
       "3  Opel  Crossland             GS-Line 1.2 GAS MT6 S/S 110cv  Gasolina  2022   \n",
       "4  Opel  Crossland                     1.2 GS LINE 110 CV 5P  Gasolina  2021   \n",
       "\n",
       "       kms  power      shift  price  \n",
       "0      5.0  110.0     manual  22900  \n",
       "1  24847.0  110.0     manual  19990  \n",
       "2  41356.0  120.0  automatic  18590  \n",
       "3     11.0  110.0     manual  22700  \n",
       "4  51390.0  110.0     manual  18200  "
      ]
     },
     "execution_count": 92,
     "metadata": {},
     "output_type": "execute_result"
    }
   ],
   "source": [
    "df_modelo = pd.read_csv('df_EDA_predicprecio.csv')\n",
    "df_modelo.head()"
   ]
  },
  {
   "cell_type": "code",
   "execution_count": 93,
   "metadata": {},
   "outputs": [],
   "source": [
    "# Función de normalización ajustada\n",
    "def normalize_version(row):\n",
    "    version = row['version']\n",
    "    year = row['year']\n",
    "    \n",
    "    # Paso 1: Convertir todo a minúsculas\n",
    "    version = version.lower()\n",
    "    \n",
    "    # Paso 2: Eliminar paréntesis y unidades de potencia como CV, kW\n",
    "    version = re.sub(r'\\s*\\(?\\d+\\s*(cv|kw)\\)?\\s*', '', version)\n",
    "    \n",
    "    # Paso 3: Normalizar palabras clave de combustible\n",
    "    version = re.sub(r'\\bgas\\b', 'gasolina', version)\n",
    "    version = re.sub(r'\\bdiesel\\b', 'diésel', version)\n",
    "    \n",
    "    # Paso 4: Eliminar abreviaturas de transmisión y tipo (MT6, S/S, 5p, auto, manual, etc.)\n",
    "    version = re.sub(r'\\b(mt6|s/s|5p|automatico|manual|auto|edition|line|style|pro|exclusive|gs-line)\\b', '', version)\n",
    "    \n",
    "    # Paso 5: Eliminar texto que no aporta a la versión, como \"cv\" o \"kw\"\n",
    "    version = re.sub(r'\\b(cv|kw)\\b', '', version)\n",
    "    \n",
    "    # Paso 6: Eliminar caracteres de puntuación innecesarios y espacios adicionales\n",
    "    version = re.sub(r'\\s+', ' ', version)  # Reemplazar múltiples espacios por uno solo\n",
    "    version = re.sub(r'[^\\w\\s]', '', version)  # Eliminar caracteres no alfanuméricos (por ejemplo, guiones, paréntesis)\n",
    "    \n",
    "    # Paso 7: Eliminar espacios al principio y al final\n",
    "    version = version.strip()\n",
    "    \n",
    "    # Incluir el año en la versión normalizada\n",
    "    normalized_version = f\"{version} {year}\"\n",
    "    \n",
    "    return normalized_version\n",
    "\n",
    "# Aplicar la normalización incluyendo el año directamente en df_modelo\n",
    "df_modelo['normalized_version'] = df_modelo.apply(normalize_version, axis=1)"
   ]
  },
  {
   "cell_type": "code",
   "execution_count": 94,
   "metadata": {},
   "outputs": [
    {
     "name": "stdout",
     "output_type": "stream",
     "text": [
      "\n",
      "Número de filas originales: 12453\n",
      "Número de filas después de eliminar duplicados: 9010\n",
      "Número de filas eliminadas: 3443\n"
     ]
    }
   ],
   "source": [
    "# Número de filas antes de eliminar duplicados\n",
    "initial_rows = len(df_modelo)\n",
    "\n",
    "# Eliminar duplicados basados en 'make', 'model' y 'normalized_version'\n",
    "df_modelo = df_modelo.drop_duplicates(subset=['make', 'model', 'normalized_version'])\n",
    "\n",
    "# Número de filas después de eliminar duplicados\n",
    "final_rows = len(df_modelo)\n",
    "\n",
    "# Número de filas eliminadas\n",
    "deleted_rows = initial_rows - final_rows\n",
    "\n",
    "print(f\"\\nNúmero de filas originales: {initial_rows}\")\n",
    "print(f\"Número de filas después de eliminar duplicados: {final_rows}\")\n",
    "print(f\"Número de filas eliminadas: {deleted_rows}\")"
   ]
  },
  {
   "cell_type": "code",
   "execution_count": 95,
   "metadata": {},
   "outputs": [],
   "source": [
    "# Función de depuración de valores infinitos\n",
    "def depurar_valores_infinitos(X):\n",
    "    \"\"\"\n",
    "    Depura valores infinitos separando columnas numéricas y categóricas\n",
    "    \n",
    "    Parámetros:\n",
    "    X (DataFrame): DataFrame de entrada\n",
    "    \n",
    "    Retorna:\n",
    "    DataFrame procesado\n",
    "    \"\"\"\n",
    "    # Separar columnas numéricas y categóricas\n",
    "    columnas_numericas = X.select_dtypes(include=['int64', 'float64']).columns\n",
    "    columnas_categoricas = X.select_dtypes(include=['object']).columns\n",
    "    \n",
    "    # Clonar el DataFrame\n",
    "    X_depurado = X.copy()\n",
    "    \n",
    "    # Imputar columnas numéricas\n",
    "    if len(columnas_numericas) > 0:\n",
    "        # Convertir infinitos a NaN\n",
    "        X_depurado[columnas_numericas] = X_depurado[columnas_numericas].replace([np.inf, -np.inf], np.nan)\n",
    "        \n",
    "        # Imputar valores NaN con la mediana\n",
    "        imputer_numerico = SimpleImputer(strategy='median')\n",
    "        X_depurado[columnas_numericas] = imputer_numerico.fit_transform(X_depurado[columnas_numericas])\n",
    "    \n",
    "    # Imputar columnas categóricas con el valor más frecuente\n",
    "    if len(columnas_categoricas) > 0:\n",
    "        imputer_categorico = SimpleImputer(strategy='most_frequent')\n",
    "        X_depurado[columnas_categoricas] = imputer_categorico.fit_transform(X_depurado[columnas_categoricas])\n",
    "    \n",
    "    return X_depurado"
   ]
  },
  {
   "cell_type": "code",
   "execution_count": 96,
   "metadata": {},
   "outputs": [],
   "source": [
    "# Función de identificación y manejo de outliers\n",
    "def identificar_outliers(df, columna):\n",
    "    \"\"\"\n",
    "    Identifica y filtra outliers usando el método del rango intercuartílico\n",
    "    \n",
    "    Parámetros:\n",
    "    df (DataFrame): DataFrame de entrada\n",
    "    columna (str): Nombre de la columna a analizar\n",
    "    \n",
    "    Retorna:\n",
    "    DataFrame sin outliers\n",
    "    \"\"\"\n",
    "    Q1 = df[columna].quantile(0.25)\n",
    "    Q3 = df[columna].quantile(0.75)\n",
    "    IQR = Q3 - Q1\n",
    "    limite_inferior = Q1 - 1.5 * IQR\n",
    "    limite_superior = Q3 + 1.5 * IQR\n",
    "    return df[(df[columna] >= limite_inferior) & (df[columna] <= limite_superior)]"
   ]
  },
  {
   "cell_type": "code",
   "execution_count": 97,
   "metadata": {},
   "outputs": [],
   "source": [
    "# Función de creación de características avanzadas\n",
    "def crear_caracteristicas_avanzadas(df):\n",
    "    \"\"\"\n",
    "    Crea características nuevas y categorías\n",
    "    \n",
    "    Parámetros:\n",
    "    df (DataFrame): DataFrame original\n",
    "    \n",
    "    Retorna:\n",
    "    DataFrame con nuevas características\n",
    "    \"\"\"\n",
    "    df_caracteristicas = df.copy()\n",
    "    \n",
    "    # Características existentes\n",
    "    df_caracteristicas['car_age'] = 2024 - df_caracteristicas['year']\n",
    "    df_caracteristicas.loc[df_caracteristicas['car_age'] == 0, 'car_age'] = 1\n",
    "    \n",
    "    # Nuevas características\n",
    "    df_caracteristicas['kms_per_year'] = df_caracteristicas['kms'] / df_caracteristicas['car_age']\n",
    "    df_caracteristicas['power_per_km'] = df_caracteristicas['power'] / df_caracteristicas['kms']\n",
    "    df_caracteristicas['power_to_kms_ratio'] = df_caracteristicas['power'] / (df_caracteristicas['kms'] + 1)\n",
    "    \n",
    "    # Categorías\n",
    "    df_caracteristicas['age_category'] = pd.cut(\n",
    "        df_caracteristicas['car_age'], \n",
    "        bins=[0, 3, 6, 10, 15, 100], \n",
    "        labels=['New', 'Recent', 'Used', 'Old', 'Vintage']\n",
    "    )\n",
    "    \n",
    "    df_caracteristicas['kms_category'] = pd.cut(\n",
    "        df_caracteristicas['kms'], \n",
    "        bins=[0, 50000, 100000, 200000, np.inf], \n",
    "        labels=['Low', 'Medium', 'High', 'Very High']\n",
    "    )\n",
    "    \n",
    "    return df_caracteristicas"
   ]
  },
  {
   "cell_type": "code",
   "execution_count": 98,
   "metadata": {},
   "outputs": [],
   "source": [
    "# Función para plotear importancia de características\n",
    "def plot_feature_importance(model, feature_names):\n",
    "    \"\"\"\n",
    "    Plotea la importancia de las características\n",
    "    \n",
    "    Parámetros:\n",
    "    model: Modelo entrenado\n",
    "    feature_names: Nombres de características\n",
    "    \"\"\"\n",
    "    # Obtener importancia de características\n",
    "    importances = model.named_steps['regressor'].feature_importances_\n",
    "    \n",
    "    # Crear DataFrame de importancias\n",
    "    feature_imp = pd.DataFrame({\n",
    "        'feature': feature_names,\n",
    "        'importance': importances\n",
    "    }).sort_values('importance', ascending=False)\n",
    "    \n",
    "    # Visualizar\n",
    "    plt.figure(figsize=(10, 6))\n",
    "    sns.barplot(x='importance', y='feature', data=feature_imp.head(10))\n",
    "    plt.title('Top 10 Features by Importance')\n",
    "    plt.tight_layout()\n",
    "    plt.show()"
   ]
  },
  {
   "cell_type": "code",
   "execution_count": 99,
   "metadata": {},
   "outputs": [],
   "source": [
    "# Paso 1: Preprocesamiento de datos\n",
    "# Aplicar creación de características avanzadas\n",
    "df_modelo = crear_caracteristicas_avanzadas(df_modelo)"
   ]
  },
  {
   "cell_type": "code",
   "execution_count": 100,
   "metadata": {},
   "outputs": [],
   "source": [
    "# Filtrar outliers\n",
    "df_modelo = identificar_outliers(df_modelo, 'price')"
   ]
  },
  {
   "cell_type": "code",
   "execution_count": 101,
   "metadata": {},
   "outputs": [],
   "source": [
    "# Depuración inicial de todo el dataset\n",
    "df_modelo = depurar_valores_infinitos(df_modelo)"
   ]
  },
  {
   "cell_type": "code",
   "execution_count": 102,
   "metadata": {},
   "outputs": [],
   "source": [
    "# Paso 2: Definir columnas\n",
    "columnas_categoricas = ['make', 'model', 'version', 'fuel', 'shift', \n",
    "                        'age_category', 'kms_category']\n",
    "columnas_numericas = ['year', 'kms', 'power', 'car_age', 'kms_per_year', \n",
    "                      'power_per_km', 'power_to_kms_ratio']"
   ]
  },
  {
   "cell_type": "code",
   "execution_count": 103,
   "metadata": {},
   "outputs": [],
   "source": [
    "# Paso 3: Preparación de datos\n",
    "# Separar características y objetivo\n",
    "X = df_modelo.drop('price', axis=1)\n",
    "y = df_modelo['price']\n"
   ]
  },
  {
   "cell_type": "code",
   "execution_count": 104,
   "metadata": {},
   "outputs": [],
   "source": [
    "# Dividir datos\n",
    "X_train, X_test, y_train, y_test = train_test_split(X, y, test_size=0.2, random_state=42)"
   ]
  },
  {
   "cell_type": "code",
   "execution_count": 105,
   "metadata": {},
   "outputs": [],
   "source": [
    "# Paso 4: Preprocesador robusto\n",
    "preprocessor = ColumnTransformer(\n",
    "    transformers=[\n",
    "        ('num', RobustScaler(), columnas_numericas),\n",
    "        ('cat', OneHotEncoder(handle_unknown='ignore'), columnas_categoricas)\n",
    "    ])"
   ]
  },
  {
   "cell_type": "code",
   "execution_count": 106,
   "metadata": {},
   "outputs": [],
   "source": [
    "# Paso 5: Definir modelos con hiperparámetros expansivos\n",
    "modelos = {\n",
    "    'RandomForest': {\n",
    "        'modelo': RandomForestRegressor(random_state=42),\n",
    "        'parametros': {\n",
    "            'n_estimators': [100, 200, 300, 400],\n",
    "            'max_depth': [None, 10, 20, 30],\n",
    "            'min_samples_split': [2, 5, 10, 15],\n",
    "            'max_features': ['sqrt', 'log2', None],  # 'auto' cambiado a 'sqrt', None\n",
    "            'bootstrap': [True, False]\n",
    "        }\n",
    "    },\n",
    "    'GradientBoosting': {\n",
    "        'modelo': GradientBoostingRegressor(random_state=42),\n",
    "        'parametros': {\n",
    "            'n_estimators': [100, 200, 300],\n",
    "            'learning_rate': [0.01, 0.1, 0.2],\n",
    "            'max_depth': [3, 4, 5],\n",
    "            'min_samples_split': [2, 5, 10],\n",
    "            'min_samples_leaf': [1, 2, 4],\n",
    "            'subsample': [0.8, 0.9, 1.0]\n",
    "        }\n",
    "    },\n",
    "    'XGBoost': {\n",
    "        'modelo': XGBRegressor(random_state=42),\n",
    "        'parametros': {\n",
    "            'n_estimators': [100, 200, 300],\n",
    "            'learning_rate': [0.01, 0.1, 0.2],\n",
    "            'max_depth': [3, 4, 5],\n",
    "            'min_child_weight': [1, 3, 5],\n",
    "            'subsample': [0.6, 0.8, 1.0],\n",
    "            'colsample_bytree': [0.6, 0.8, 1.0]\n",
    "        }\n",
    "    }\n",
    "}"
   ]
  },
  {
   "cell_type": "code",
   "execution_count": 107,
   "metadata": {},
   "outputs": [],
   "source": [
    "# Inicializar un diccionario para guardar los resultados\n",
    "resultados_modelos = {}\n",
    "\n",
    "# Depurar valores infinitos una vez\n",
    "X_train_depurado = depurar_valores_infinitos(X_train)\n",
    "X_test_depurado = depurar_valores_infinitos(X_test)"
   ]
  },
  {
   "cell_type": "code",
   "execution_count": 108,
   "metadata": {},
   "outputs": [],
   "source": [
    "# Función para entrenar un único modelo con un conjunto específico de hiperparámetros\n",
    "def entrenar_modelo_individual(nombre_modelo, modelo_base, params):\n",
    "    print(f\"Entrenando {nombre_modelo} con parámetros: {params}\")\n",
    "    \n",
    "    # Crear el modelo con los parámetros específicos\n",
    "    if nombre_modelo == 'RandomForest':\n",
    "        modelo = RandomForestRegressor(random_state=42, **params)\n",
    "    elif nombre_modelo == 'GradientBoosting':\n",
    "        modelo = GradientBoostingRegressor(random_state=42, **params)\n",
    "    elif nombre_modelo == 'XGBoost':\n",
    "        modelo = XGBRegressor(random_state=42, **params)\n",
    "    \n",
    "    # Crear pipeline\n",
    "    pipeline = Pipeline([\n",
    "        ('preprocessor', preprocessor),\n",
    "        ('regressor', modelo)\n",
    "    ])\n",
    "    \n",
    "    # Entrenar con validación cruzada\n",
    "    cv = RepeatedKFold(n_splits=5, n_repeats=3)\n",
    "    scores = cross_val_score(pipeline, X_train_depurado, y_train, \n",
    "                            cv=cv, scoring='neg_mean_squared_error')\n",
    "    \n",
    "    # Entrenar con validación cruzada para R2\n",
    "    r2_scores = cross_val_score(pipeline, X_train_depurado, y_train, \n",
    "                            cv=cv, scoring='r2')\n",
    "    \n",
    "    # Entrenar en todo el conjunto de entrenamiento para guardar el modelo final\n",
    "    pipeline.fit(X_train_depurado, y_train)\n",
    "    \n",
    "     # Evaluar en el conjunto de prueba\n",
    "    y_pred = pipeline.predict(X_test_depurado)\n",
    "    mse = mean_squared_error(y_test, y_pred)\n",
    "    r2 = r2_score(y_test, y_pred)\n",
    "    \n",
    "    return {\n",
    "        'pipeline': pipeline,\n",
    "        'cv_mse_mean': mse_scores.mean(),\n",
    "        'cv_mse_std': mse_scores.std(),\n",
    "        'cv_r2_mean': r2_scores.mean(),\n",
    "        'cv_r2_std': r2_scores.std(),\n",
    "        'test_mse': mse,\n",
    "        'test_r2': r2,\n",
    "        'params': params\n",
    "    }\n",
    "    \n",
    "    "
   ]
  },
  {
   "cell_type": "code",
   "execution_count": 109,
   "metadata": {},
   "outputs": [],
   "source": [
    "# Función para generar todas las combinaciones posibles de hiperparámetros\n",
    "def generar_combinaciones_parametros(parametros):\n",
    "    claves = list(parametros.keys())\n",
    "    valores = list(parametros.values())\n",
    "    \n",
    "    combinaciones = []\n",
    "    for combo in itertools.product(*valores):\n",
    "        combinacion = {claves[i]: combo[i] for i in range(len(claves))}\n",
    "        combinaciones.append(combinacion)\n",
    "    \n",
    "    return combinaciones"
   ]
  },
  {
   "cell_type": "code",
   "execution_count": null,
   "metadata": {},
   "outputs": [
    {
     "name": "stdout",
     "output_type": "stream",
     "text": [
      "\n",
      "==================================================\n",
      "Iniciando entrenamiento de RandomForest\n",
      "==================================================\n",
      "Se entrenarán 384 combinaciones de hiperparámetros para RandomForest\n",
      "\n",
      "Combinación 1/384\n",
      "Entrenando RandomForest con parámetros: {'n_estimators': 100, 'max_depth': None, 'min_samples_split': 2, 'max_features': 'sqrt', 'bootstrap': True}\n",
      "Error con esta combinación: name 'mse_scores' is not defined\n",
      "Saltando a la siguiente combinación...\n",
      "\n",
      "Combinación 2/384\n",
      "Entrenando RandomForest con parámetros: {'n_estimators': 100, 'max_depth': None, 'min_samples_split': 2, 'max_features': 'sqrt', 'bootstrap': False}\n"
     ]
    }
   ],
   "source": [
    "# Entrenar modelos uno por uno\n",
    "for nombre, config in modelos.items():\n",
    "    print(f\"\\n{'='*50}\")\n",
    "    print(f\"Iniciando entrenamiento de {nombre}\")\n",
    "    print(f\"{'='*50}\")\n",
    "    \n",
    "    resultados_modelos[nombre] = []\n",
    "    \n",
    "    # Generar todas las combinaciones de hiperparámetros\n",
    "    combinaciones = generar_combinaciones_parametros(config['parametros'])\n",
    "    \n",
    "    print(f\"Se entrenarán {len(combinaciones)} combinaciones de hiperparámetros para {nombre}\")\n",
    "    \n",
    "    # Entrenar cada combinación individualmente\n",
    "    for i, params in enumerate(combinaciones):\n",
    "        print(f\"\\nCombinación {i+1}/{len(combinaciones)}\")\n",
    "        try:\n",
    "            resultado = entrenar_modelo_individual(nombre, config['modelo'], params)\n",
    "            resultados_modelos[nombre].append(resultado)\n",
    "            \n",
    "            # Mostrar resultados parciales con R2\n",
    "            print(f\"MSE en validación cruzada: {-resultado['cv_mse_mean']:.4f} ± {resultado['cv_mse_std']:.4f}\")\n",
    "            print(f\"R² en validación cruzada: {resultado['cv_r2_mean']:.4f} ± {resultado['cv_r2_std']:.4f}\")\n",
    "            print(f\"MSE en conjunto de prueba: {resultado['test_mse']:.4f}\")\n",
    "            print(f\"R² en conjunto de prueba: {resultado['test_r2']:.4f}\")\n",
    "            \n",
    "        except Exception as e:\n",
    "            print(f\"Error con esta combinación: {str(e)}\")\n",
    "            print(\"Saltando a la siguiente combinación...\")\n",
    "            continue\n",
    "    \n",
    "    # Verificar si hay resultados para este modelo\n",
    "    if not resultados_modelos[nombre]:\n",
    "        print(f\"No se obtuvieron resultados válidos para {nombre}. Pasando al siguiente modelo.\")\n",
    "        continue\n",
    "    "
   ]
  },
  {
   "cell_type": "code",
   "execution_count": null,
   "metadata": {},
   "outputs": [],
   "source": [
    "# Identificar el mejor modelo para este tipo (basado en R2 de prueba)\n",
    "mejor_indice = np.argmax([res['test_r2'] for res in resultados_modelos[nombre]])\n",
    "mejor_modelo = resultados_modelos[nombre][mejor_indice]\n",
    "    \n",
    "print(f\"\\n{'*'*50}\")\n",
    "print(f\"Mejor configuración para {nombre}:\")\n",
    "print(f\"Parámetros: {mejor_modelo['params']}\")\n",
    "print(f\"MSE en validación cruzada: {-mejor_modelo['cv_mse_mean']:.4f}\")\n",
    "print(f\"R² en validación cruzada: {mejor_modelo['cv_r2_mean']:.4f}\")\n",
    "print(f\"MSE en conjunto de prueba: {mejor_modelo['test_mse']:.4f}\")\n",
    "print(f\"R² en conjunto de prueba: {mejor_modelo['test_r2']:.4f}\")\n",
    "print(f\"{'*'*50}\")"
   ]
  },
  {
   "cell_type": "code",
   "execution_count": null,
   "metadata": {},
   "outputs": [],
   "source": [
    "# Verificar si se obtuvieron resultados para algún modelo\n",
    "modelos_con_resultados = {k: v for k, v in resultados_modelos.items() if v}\n",
    "\n",
    "if not modelos_con_resultados:\n",
    "    print(\"No se obtuvieron resultados válidos para ningún modelo.\")\n",
    "else:\n",
    "    # Encontrar el mejor modelo entre todos los tipos (basado en R2 de prueba)\n",
    "    mejor_tipo = max(modelos_con_resultados.keys(), \n",
    "                    key=lambda k: max(res['test_r2'] for res in modelos_con_resultados[k]))\n",
    "\n",
    "    mejor_indice_global = np.argmax([res['test_r2'] for res in modelos_con_resultados[mejor_tipo]])\n",
    "    mejor_modelo_global = modelos_con_resultados[mejor_tipo][mejor_indice_global]\n",
    "\n",
    "    print(f\"\\n{'#'*50}\")\n",
    "    print(f\"MEJOR MODELO GLOBAL: {mejor_tipo}\")\n",
    "    print(f\"Parámetros: {mejor_modelo_global['params']}\")\n",
    "    print(f\"MSE en validación cruzada: {-mejor_modelo_global['cv_mse_mean']:.4f}\")\n",
    "    print(f\"R² en validación cruzada: {mejor_modelo_global['cv_r2_mean']:.4f}\")\n",
    "    print(f\"MSE en conjunto de prueba: {mejor_modelo_global['test_mse']:.4f}\")\n",
    "    print(f\"R² en conjunto de prueba: {mejor_modelo_global['test_r2']:.4f}\")\n",
    "    print(f\"{'#'*50}\")"
   ]
  },
  {
   "cell_type": "code",
   "execution_count": null,
   "metadata": {},
   "outputs": [],
   "source": [
    "# Paso 8: Ensemble de Modelos\n",
    "# Crear el ensemble\n",
    "# Suponiendo que 'resultados_modelos' contiene los resultados de grid search\n",
    "ensemble_modelos = [\n",
    "    ('rf', modelos['RandomForest']['modelo'].set_params(**resultados_modelos['RandomForest']['Modelo'].best_params_)),\n",
    "    ('gb', modelos['GradientBoosting']['modelo'].set_params(**resultados_modelos['GradientBoosting']['Modelo'].best_params_)),\n",
    "    ('xgb', modelos['XGBoost']['modelo'].set_params(**resultados_modelos['XGBoost']['Modelo'].best_params_))\n",
    "]"
   ]
  },
  {
   "cell_type": "code",
   "execution_count": null,
   "metadata": {},
   "outputs": [],
   "source": [
    "ensemble = VotingRegressor(ensemble_modelos)"
   ]
  },
  {
   "cell_type": "code",
   "execution_count": null,
   "metadata": {},
   "outputs": [],
   "source": [
    "# Pipeline para el ensemble\n",
    "ensemble_pipeline = Pipeline([\n",
    "    ('preprocessor', preprocessor),\n",
    "    ('regressor', ensemble)\n",
    "])"
   ]
  },
  {
   "cell_type": "code",
   "execution_count": null,
   "metadata": {},
   "outputs": [],
   "source": [
    "# Entrenar ensemble\n",
    "ensemble_pipeline.fit(X_train_depurado, y_train)"
   ]
  },
  {
   "cell_type": "code",
   "execution_count": null,
   "metadata": {},
   "outputs": [],
   "source": [
    "# Predicciones del ensemble\n",
    "predicciones_ensemble = ensemble_pipeline.predict(X_test_depurado)\n",
    "\n",
    "# Métricas del ensemble\n",
    "mse_ensemble = mean_squared_error(y_test, predicciones_ensemble)\n",
    "rmse_ensemble = np.sqrt(mse_ensemble)\n",
    "mae_ensemble = mean_absolute_error(y_test, predicciones_ensemble)\n",
    "r2_ensemble = r2_score(y_test, predicciones_ensemble)\n",
    "\n",
    "print(\"\\nEnsemble Model Results:\")\n",
    "print(f\"R² Score: {r2_ensemble:.4f}\")\n",
    "print(f\"RMSE: {rmse_ensemble:.2f}\")\n",
    "print(f\"MAE: {mae_ensemble:.2f}\")"
   ]
  },
  {
   "cell_type": "code",
   "execution_count": null,
   "metadata": {},
   "outputs": [],
   "source": [
    "# Paso 10: Importancia de características\n",
    "plot_feature_importance(mejor_modelo, \n",
    "    preprocessor.get_feature_names_out())"
   ]
  }
 ],
 "metadata": {
  "kernelspec": {
   "display_name": "base",
   "language": "python",
   "name": "python3"
  },
  "language_info": {
   "codemirror_mode": {
    "name": "ipython",
    "version": 3
   },
   "file_extension": ".py",
   "mimetype": "text/x-python",
   "name": "python",
   "nbconvert_exporter": "python",
   "pygments_lexer": "ipython3",
   "version": "3.12.4"
  }
 },
 "nbformat": 4,
 "nbformat_minor": 2
}
