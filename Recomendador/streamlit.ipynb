{
 "cells": [
  {
   "cell_type": "code",
   "execution_count": null,
   "metadata": {
    "vscode": {
     "languageId": "plaintext"
    }
   },
   "outputs": [],
   "source": [
    "# 4. Streamlit App\n",
    "\n",
    "st.title(\"Car Price Recommendation System\")\n",
    "\n",
    "# User inputs for features\n",
    "year = st.slider('Year of the car', 2000, 2025, 2018)\n",
    "kms = st.slider('Kilometers driven', 0, 300000, 30000)\n",
    "power = st.slider('Power (in HP)', 50, 500, 150)\n",
    "vehicle_age = st.slider('Vehicle Age (years)', 0, 20, 5)\n",
    "fuel = st.selectbox('Fuel type', df['fuel'].unique())\n",
    "shift = st.selectbox('Transmission type', df['shift'].unique())\n",
    "make = st.selectbox('Car Make', df['make'].unique())\n",
    "model = st.selectbox('Car Model', df['model'].unique())\n",
    "\n",
    "# Recommendation function\n",
    "user_input = {\n",
    "    'year': year,\n",
    "    'kms': kms,\n",
    "    'power': power,\n",
    "    'vehicle_age': vehicle_age,\n",
    "    'fuel': fuel,\n",
    "    'shift': shift,\n",
    "    'make': make,\n",
    "    'model': model\n",
    "}\n",
    "\n",
    "user_df = pd.DataFrame([user_input], columns=features)\n",
    "best_model = grid_search.best_estimator_\n",
    "\n",
    "# Get recommendations\n",
    "df['similarity'] = np.abs(df['price'] - best_model.predict(user_df)[0])\n",
    "recommendations = df.sort_values(by='similarity').head(5)\n",
    "\n",
    "# Display recommendations\n",
    "st.subheader(\"Top 5 Car Recommendations:\")\n",
    "st.write(recommendations[['make', 'model', 'price', 'year', 'kms']])"
   ]
  }
 ],
 "metadata": {
  "language_info": {
   "name": "python"
  }
 },
 "nbformat": 4,
 "nbformat_minor": 2
}
