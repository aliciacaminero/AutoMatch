{
 "cells": [
  {
   "cell_type": "code",
   "execution_count": 31,
   "metadata": {},
   "outputs": [],
   "source": [
    "import pandas as pd\n",
    "import numpy as np\n",
    "import matplotlib.pyplot as plt\n",
    "import seaborn as sns\n",
    "import re\n",
    "import itertools\n",
    "from sklearn.model_selection import train_test_split, GridSearchCV, RepeatedKFold, cross_val_score\n",
    "from sklearn.preprocessing import StandardScaler, OneHotEncoder, RobustScaler\n",
    "from sklearn.compose import ColumnTransformer\n",
    "from sklearn.pipeline import Pipeline\n",
    "from sklearn.ensemble import RandomForestRegressor, GradientBoostingRegressor, VotingRegressor\n",
    "from sklearn.metrics import mean_squared_error, mean_absolute_error, r2_score\n",
    "from sklearn.impute import SimpleImputer\n",
    "from xgboost import XGBRegressor"
   ]
  },
  {
   "cell_type": "code",
   "execution_count": 32,
   "metadata": {},
   "outputs": [
    {
     "data": {
      "application/vnd.microsoft.datawrangler.viewer.v0+json": {
       "columns": [
        {
         "name": "index",
         "rawType": "int64",
         "type": "integer"
        },
        {
         "name": "make",
         "rawType": "object",
         "type": "string"
        },
        {
         "name": "model",
         "rawType": "object",
         "type": "string"
        },
        {
         "name": "version",
         "rawType": "object",
         "type": "string"
        },
        {
         "name": "fuel",
         "rawType": "object",
         "type": "string"
        },
        {
         "name": "year",
         "rawType": "int64",
         "type": "integer"
        },
        {
         "name": "kms",
         "rawType": "float64",
         "type": "float"
        },
        {
         "name": "power",
         "rawType": "float64",
         "type": "float"
        },
        {
         "name": "shift",
         "rawType": "object",
         "type": "string"
        },
        {
         "name": "price",
         "rawType": "int64",
         "type": "integer"
        }
       ],
       "conversionMethod": "pd.DataFrame",
       "ref": "3738cca2-27c6-484e-8b35-afde523227e2",
       "rows": [
        [
         "0",
         "Opel",
         "Crossland",
         "1.2 GAS 110 GS Line 5p S/S",
         "Gasolina",
         "2022",
         "5.0",
         "110.0",
         "manual",
         "22900"
        ],
        [
         "1",
         "Opel",
         "Crossland",
         "1.2 81kW (110CV) GS Line",
         "Gasolina",
         "2022",
         "24847.0",
         "110.0",
         "manual",
         "19990"
        ],
        [
         "2",
         "Opel",
         "Crossland",
         "1.5D 88kW (120CV) Business Elegance Auto",
         "Diésel",
         "2021",
         "41356.0",
         "120.0",
         "automatic",
         "18590"
        ],
        [
         "3",
         "Opel",
         "Crossland",
         "GS-Line 1.2 GAS MT6 S/S 110cv",
         "Gasolina",
         "2022",
         "11.0",
         "110.0",
         "manual",
         "22700"
        ],
        [
         "4",
         "Opel",
         "Crossland",
         "1.2 GS LINE 110 CV 5P",
         "Gasolina",
         "2021",
         "51390.0",
         "110.0",
         "manual",
         "18200"
        ]
       ],
       "shape": {
        "columns": 9,
        "rows": 5
       }
      },
      "text/html": [
       "<div>\n",
       "<style scoped>\n",
       "    .dataframe tbody tr th:only-of-type {\n",
       "        vertical-align: middle;\n",
       "    }\n",
       "\n",
       "    .dataframe tbody tr th {\n",
       "        vertical-align: top;\n",
       "    }\n",
       "\n",
       "    .dataframe thead th {\n",
       "        text-align: right;\n",
       "    }\n",
       "</style>\n",
       "<table border=\"1\" class=\"dataframe\">\n",
       "  <thead>\n",
       "    <tr style=\"text-align: right;\">\n",
       "      <th></th>\n",
       "      <th>make</th>\n",
       "      <th>model</th>\n",
       "      <th>version</th>\n",
       "      <th>fuel</th>\n",
       "      <th>year</th>\n",
       "      <th>kms</th>\n",
       "      <th>power</th>\n",
       "      <th>shift</th>\n",
       "      <th>price</th>\n",
       "    </tr>\n",
       "  </thead>\n",
       "  <tbody>\n",
       "    <tr>\n",
       "      <th>0</th>\n",
       "      <td>Opel</td>\n",
       "      <td>Crossland</td>\n",
       "      <td>1.2 GAS 110 GS Line 5p S/S</td>\n",
       "      <td>Gasolina</td>\n",
       "      <td>2022</td>\n",
       "      <td>5.0</td>\n",
       "      <td>110.0</td>\n",
       "      <td>manual</td>\n",
       "      <td>22900</td>\n",
       "    </tr>\n",
       "    <tr>\n",
       "      <th>1</th>\n",
       "      <td>Opel</td>\n",
       "      <td>Crossland</td>\n",
       "      <td>1.2 81kW (110CV) GS Line</td>\n",
       "      <td>Gasolina</td>\n",
       "      <td>2022</td>\n",
       "      <td>24847.0</td>\n",
       "      <td>110.0</td>\n",
       "      <td>manual</td>\n",
       "      <td>19990</td>\n",
       "    </tr>\n",
       "    <tr>\n",
       "      <th>2</th>\n",
       "      <td>Opel</td>\n",
       "      <td>Crossland</td>\n",
       "      <td>1.5D 88kW (120CV) Business Elegance Auto</td>\n",
       "      <td>Diésel</td>\n",
       "      <td>2021</td>\n",
       "      <td>41356.0</td>\n",
       "      <td>120.0</td>\n",
       "      <td>automatic</td>\n",
       "      <td>18590</td>\n",
       "    </tr>\n",
       "    <tr>\n",
       "      <th>3</th>\n",
       "      <td>Opel</td>\n",
       "      <td>Crossland</td>\n",
       "      <td>GS-Line 1.2 GAS MT6 S/S 110cv</td>\n",
       "      <td>Gasolina</td>\n",
       "      <td>2022</td>\n",
       "      <td>11.0</td>\n",
       "      <td>110.0</td>\n",
       "      <td>manual</td>\n",
       "      <td>22700</td>\n",
       "    </tr>\n",
       "    <tr>\n",
       "      <th>4</th>\n",
       "      <td>Opel</td>\n",
       "      <td>Crossland</td>\n",
       "      <td>1.2 GS LINE 110 CV 5P</td>\n",
       "      <td>Gasolina</td>\n",
       "      <td>2021</td>\n",
       "      <td>51390.0</td>\n",
       "      <td>110.0</td>\n",
       "      <td>manual</td>\n",
       "      <td>18200</td>\n",
       "    </tr>\n",
       "  </tbody>\n",
       "</table>\n",
       "</div>"
      ],
      "text/plain": [
       "   make      model                                   version      fuel  year  \\\n",
       "0  Opel  Crossland                1.2 GAS 110 GS Line 5p S/S  Gasolina  2022   \n",
       "1  Opel  Crossland                  1.2 81kW (110CV) GS Line  Gasolina  2022   \n",
       "2  Opel  Crossland  1.5D 88kW (120CV) Business Elegance Auto    Diésel  2021   \n",
       "3  Opel  Crossland             GS-Line 1.2 GAS MT6 S/S 110cv  Gasolina  2022   \n",
       "4  Opel  Crossland                     1.2 GS LINE 110 CV 5P  Gasolina  2021   \n",
       "\n",
       "       kms  power      shift  price  \n",
       "0      5.0  110.0     manual  22900  \n",
       "1  24847.0  110.0     manual  19990  \n",
       "2  41356.0  120.0  automatic  18590  \n",
       "3     11.0  110.0     manual  22700  \n",
       "4  51390.0  110.0     manual  18200  "
      ]
     },
     "execution_count": 32,
     "metadata": {},
     "output_type": "execute_result"
    }
   ],
   "source": [
    "df_modelo = pd.read_csv('df_EDA_predicprecio.csv')\n",
    "df_modelo.head()"
   ]
  },
  {
   "cell_type": "code",
   "execution_count": 33,
   "metadata": {},
   "outputs": [],
   "source": [
    "# Función de normalización ajustada\n",
    "def normalize_version(row):\n",
    "    version = row['version']\n",
    "    year = row['year']\n",
    "    \n",
    "    # Paso 1: Convertir todo a minúsculas\n",
    "    version = version.lower()\n",
    "    \n",
    "    # Paso 2: Eliminar paréntesis y unidades de potencia como CV, kW\n",
    "    version = re.sub(r'\\s*\\(?\\d+\\s*(cv|kw)\\)?\\s*', '', version)\n",
    "    \n",
    "    # Paso 3: Normalizar palabras clave de combustible\n",
    "    version = re.sub(r'\\bgas\\b', 'gasolina', version)\n",
    "    version = re.sub(r'\\bdiesel\\b', 'diésel', version)\n",
    "    \n",
    "    # Paso 4: Eliminar abreviaturas de transmisión y tipo (MT6, S/S, 5p, auto, manual, etc.)\n",
    "    version = re.sub(r'\\b(mt6|s/s|5p|automatico|manual|auto|edition|line|style|pro|exclusive|gs-line)\\b', '', version)\n",
    "    \n",
    "    # Paso 5: Eliminar texto que no aporta a la versión, como \"cv\" o \"kw\"\n",
    "    version = re.sub(r'\\b(cv|kw)\\b', '', version)\n",
    "    \n",
    "    # Paso 6: Eliminar caracteres de puntuación innecesarios y espacios adicionales\n",
    "    version = re.sub(r'\\s+', ' ', version)  # Reemplazar múltiples espacios por uno solo\n",
    "    version = re.sub(r'[^\\w\\s]', '', version)  # Eliminar caracteres no alfanuméricos (por ejemplo, guiones, paréntesis)\n",
    "    \n",
    "    # Paso 7: Eliminar espacios al principio y al final\n",
    "    version = version.strip()\n",
    "    \n",
    "    # Incluir el año en la versión normalizada\n",
    "    normalized_version = f\"{version} {year}\"\n",
    "    \n",
    "    return normalized_version\n",
    "\n",
    "# Aplicar la normalización incluyendo el año directamente en df_modelo\n",
    "df_modelo['normalized_version'] = df_modelo.apply(normalize_version, axis=1)"
   ]
  },
  {
   "cell_type": "code",
   "execution_count": 34,
   "metadata": {},
   "outputs": [
    {
     "name": "stdout",
     "output_type": "stream",
     "text": [
      "\n",
      "Número de filas originales: 12453\n",
      "Número de filas después de eliminar duplicados: 9010\n",
      "Número de filas eliminadas: 3443\n"
     ]
    }
   ],
   "source": [
    "# Número de filas antes de eliminar duplicados\n",
    "initial_rows = len(df_modelo)\n",
    "\n",
    "# Eliminar duplicados basados en 'make', 'model' y 'normalized_version'\n",
    "df_modelo = df_modelo.drop_duplicates(subset=['make', 'model', 'normalized_version'])\n",
    "\n",
    "# Número de filas después de eliminar duplicados\n",
    "final_rows = len(df_modelo)\n",
    "\n",
    "# Número de filas eliminadas\n",
    "deleted_rows = initial_rows - final_rows\n",
    "\n",
    "print(f\"\\nNúmero de filas originales: {initial_rows}\")\n",
    "print(f\"Número de filas después de eliminar duplicados: {final_rows}\")\n",
    "print(f\"Número de filas eliminadas: {deleted_rows}\")"
   ]
  },
  {
   "cell_type": "code",
   "execution_count": 35,
   "metadata": {},
   "outputs": [],
   "source": [
    "# Función de depuración de valores infinitos\n",
    "def depurar_valores_infinitos(X):\n",
    "    \"\"\"\n",
    "    Depura valores infinitos separando columnas numéricas y categóricas\n",
    "    \n",
    "    Parámetros:\n",
    "    X (DataFrame): DataFrame de entrada\n",
    "    \n",
    "    Retorna:\n",
    "    DataFrame procesado\n",
    "    \"\"\"\n",
    "    # Separar columnas numéricas y categóricas\n",
    "    columnas_numericas = X.select_dtypes(include=['int64', 'float64']).columns\n",
    "    columnas_categoricas = X.select_dtypes(include=['object']).columns\n",
    "    \n",
    "    # Clonar el DataFrame\n",
    "    X_depurado = X.copy()\n",
    "    \n",
    "    # Imputar columnas numéricas\n",
    "    if len(columnas_numericas) > 0:\n",
    "        # Convertir infinitos a NaN\n",
    "        X_depurado[columnas_numericas] = X_depurado[columnas_numericas].replace([np.inf, -np.inf], np.nan)\n",
    "        \n",
    "        # Imputar valores NaN con la mediana\n",
    "        imputer_numerico = SimpleImputer(strategy='median')\n",
    "        X_depurado[columnas_numericas] = imputer_numerico.fit_transform(X_depurado[columnas_numericas])\n",
    "    \n",
    "    # Imputar columnas categóricas con el valor más frecuente\n",
    "    if len(columnas_categoricas) > 0:\n",
    "        imputer_categorico = SimpleImputer(strategy='most_frequent')\n",
    "        X_depurado[columnas_categoricas] = imputer_categorico.fit_transform(X_depurado[columnas_categoricas])\n",
    "    \n",
    "    return X_depurado"
   ]
  },
  {
   "cell_type": "code",
   "execution_count": 36,
   "metadata": {},
   "outputs": [],
   "source": [
    "# Función de creación segura de características\n",
    "def crear_caracteristicas_seguras(df):\n",
    "    \"\"\"\n",
    "    Crea características nuevas manejando casos especiales\n",
    "    \n",
    "    Parámetros:\n",
    "    df (DataFrame): DataFrame original\n",
    "    \n",
    "    Retorna:\n",
    "    DataFrame con nuevas características\n",
    "    \"\"\"\n",
    "    # Clonar el dataframe para no modificar el original\n",
    "    df_seguro = df.copy()\n",
    "    \n",
    "    # Manejar casos de car_age = 0\n",
    "    df_seguro['car_age'] = 2024 - df_seguro['year']\n",
    "    df_seguro.loc[df_seguro['car_age'] == 0, 'car_age'] = 1  # Evitar división por cero\n",
    "    \n",
    "    # Calcular kms_per_year con manejo de casos especiales\n",
    "    df_seguro['kms_per_year'] = df_seguro['kms'] / df_seguro['car_age']\n",
    "    \n",
    "    # Manejar casos extremos de kms_per_year\n",
    "    kms_per_year_mean = df_seguro['kms_per_year'].median()\n",
    "    df_seguro.loc[np.isinf(df_seguro['kms_per_year']), 'kms_per_year'] = kms_per_year_mean\n",
    "    \n",
    "    # Calcular power_per_km con manejo de casos especiales\n",
    "    df_seguro['power_per_km'] = df_seguro['power'] / df_seguro['kms']\n",
    "    power_per_km_mean = df_seguro['power_per_km'].median()\n",
    "    df_seguro.loc[np.isinf(df_seguro['power_per_km']), 'power_per_km'] = power_per_km_mean\n",
    "    \n",
    "    return df_seguro\n"
   ]
  },
  {
   "cell_type": "code",
   "execution_count": 37,
   "metadata": {},
   "outputs": [],
   "source": [
    "# Paso 1: Aplicar función de características\n",
    "df_modelo = crear_caracteristicas_seguras(df_modelo)"
   ]
  },
  {
   "cell_type": "code",
   "execution_count": 38,
   "metadata": {},
   "outputs": [],
   "source": [
    "# Paso 2: Depuración inicial de todo el dataset\n",
    "df_modelo = depurar_valores_infinitos(df_modelo)"
   ]
  },
  {
   "cell_type": "code",
   "execution_count": 39,
   "metadata": {},
   "outputs": [],
   "source": [
    "# Paso 3: Identificar columnas\n",
    "columnas_categoricas = ['make', 'model', 'version', 'fuel', 'shift']\n",
    "columnas_numericas = ['year', 'kms', 'power', 'car_age', 'kms_per_year', 'power_per_km']"
   ]
  },
  {
   "cell_type": "code",
   "execution_count": 40,
   "metadata": {},
   "outputs": [],
   "source": [
    "# Paso 6: Preparación de datos\n",
    "# Separar características y objetivo\n",
    "X = df_modelo.drop('price', axis=1)\n",
    "y = df_modelo['price']"
   ]
  },
  {
   "cell_type": "code",
   "execution_count": 41,
   "metadata": {},
   "outputs": [],
   "source": [
    "# Dividir datos\n",
    "X_train, X_test, y_train, y_test = train_test_split(X, y, test_size=0.2, random_state=42)"
   ]
  },
  {
   "cell_type": "code",
   "execution_count": 42,
   "metadata": {},
   "outputs": [],
   "source": [
    "# Paso 7: Preprocesador robusto\n",
    "preprocessor = ColumnTransformer(\n",
    "    transformers=[\n",
    "        ('num', RobustScaler(), columnas_numericas),\n",
    "        ('cat', OneHotEncoder(handle_unknown='ignore'), columnas_categoricas)\n",
    "    ])"
   ]
  },
  {
   "cell_type": "code",
   "execution_count": 43,
   "metadata": {},
   "outputs": [],
   "source": [
    "# Inicializar un diccionario para guardar los resultados\n",
    "resultados_modelos = {}\n",
    "\n",
    "# Depurar valores infinitos una vez\n",
    "X_train_depurado = depurar_valores_infinitos(X_train)\n",
    "X_test_depurado = depurar_valores_infinitos(X_test)"
   ]
  },
  {
   "cell_type": "code",
   "execution_count": 44,
   "metadata": {},
   "outputs": [],
   "source": [
    "# === Celda para RandomForest ===\n",
    "\n",
    "# Definir modelo y parámetros\n",
    "nombre = 'RandomForest'\n",
    "modelo = RandomForestRegressor(random_state=42)\n",
    "parametros = {\n",
    "    'n_estimators': [100, 200, 300, 400],\n",
    "    'max_depth': [None, 10, 20, 30],\n",
    "    'min_samples_split': [2, 5, 10, 15],\n",
    "    'max_features': ['sqrt', 'log2', None],  # Corregido: 'auto' por 'sqrt', None\n",
    "    'bootstrap': [True, False]\n",
    "}\n",
    "\n",
    "# Crear pipeline\n",
    "pipeline = Pipeline([\n",
    "    ('preprocessor', preprocessor),\n",
    "    ('regressor', modelo)\n",
    "])\n",
    "\n",
    "# Grid Search con validación cruzada repetida\n",
    "grid_search = GridSearchCV(\n",
    "    pipeline, \n",
    "    param_grid={f'regressor__{k}': v for k, v in parametros.items()}, \n",
    "    cv=RepeatedKFold(n_splits=5, n_repeats=3),\n",
    "    scoring=['neg_mean_squared_error', 'r2'],  # Usar múltiples métricas\n",
    "    refit='r2',  # Reajustar usando R2\n",
    "    verbose=1,   # Mostrar progreso\n",
    "    n_jobs=-1    # Usar todos los núcleos\n",
    ")"
   ]
  },
  {
   "cell_type": "code",
   "execution_count": null,
   "metadata": {},
   "outputs": [
    {
     "name": "stdout",
     "output_type": "stream",
     "text": [
      "Iniciando entrenamiento de RandomForest...\n",
      "Fitting 15 folds for each of 384 candidates, totalling 5760 fits\n"
     ]
    }
   ],
   "source": [
    "# Entrenar el modelo\n",
    "print(f\"Iniciando entrenamiento de {nombre}...\")\n",
    "grid_search.fit(X_train_depurado, y_train)\n"
   ]
  },
  {
   "cell_type": "code",
   "execution_count": null,
   "metadata": {},
   "outputs": [],
   "source": [
    "# Obtener mejores parámetros\n",
    "mejor_combinacion = grid_search.best_params_\n",
    "print(f\"\\nMejores parámetros para {nombre}:\")\n",
    "for param, valor in mejor_combinacion.items():\n",
    "    print(f\"{param.replace('regressor__', '')}: {valor}\")\n",
    "\n",
    "# Evaluar en el conjunto de prueba\n",
    "y_pred = grid_search.predict(X_test_depurado)\n",
    "mse = mean_squared_error(y_test, y_pred)\n",
    "r2 = r2_score(y_test, y_pred)\n",
    "\n",
    "print(f\"\\nResultados en conjunto de prueba para {nombre}:\")\n",
    "print(f\"MSE: {mse:.4f}\")\n",
    "print(f\"R²: {r2:.4f}\")"
   ]
  },
  {
   "cell_type": "code",
   "execution_count": null,
   "metadata": {},
   "outputs": [],
   "source": [
    "# Guardar resultados\n",
    "resultados_modelos[nombre] = {\n",
    "    'pipeline': grid_search,\n",
    "    'mejor_configuracion': mejor_combinacion,\n",
    "    'cv_results': grid_search.cv_results_,\n",
    "    'test_mse': mse,\n",
    "    'test_r2': r2\n",
    "}"
   ]
  },
  {
   "cell_type": "code",
   "execution_count": null,
   "metadata": {},
   "outputs": [],
   "source": [
    "# === Celda para Gradient Boosting ===\n",
    "\n",
    "# Definir modelo y parámetros\n",
    "nombre = 'GradientBoosting'\n",
    "modelo = GradientBoostingRegressor(random_state=42)\n",
    "parametros = {\n",
    "    'n_estimators': [100, 200, 300],\n",
    "    'learning_rate': [0.01, 0.1, 0.2],\n",
    "    'max_depth': [3, 4, 5],\n",
    "    'min_samples_split': [2, 5, 10],\n",
    "    'min_samples_leaf': [1, 2, 4],\n",
    "    'subsample': [0.8, 0.9, 1.0]\n",
    "}\n",
    "\n",
    "# Crear pipeline\n",
    "pipeline = Pipeline([\n",
    "    ('preprocessor', preprocessor),\n",
    "    ('regressor', modelo)\n",
    "])\n",
    "\n",
    "# Grid Search con validación cruzada repetida\n",
    "grid_search = GridSearchCV(\n",
    "    pipeline, \n",
    "    param_grid={f'regressor__{k}': v for k, v in parametros.items()}, \n",
    "    cv=RepeatedKFold(n_splits=5, n_repeats=3),\n",
    "    scoring=['neg_mean_squared_error', 'r2'],  # Usar múltiples métricas\n",
    "    refit='r2',  # Reajustar usando R2\n",
    "    verbose=1,   # Mostrar progreso\n",
    "    n_jobs=-1    # Usar todos los núcleos\n",
    ")"
   ]
  },
  {
   "cell_type": "code",
   "execution_count": null,
   "metadata": {},
   "outputs": [],
   "source": [
    "# Entrenar el modelo\n",
    "print(f\"Iniciando entrenamiento de {nombre}...\")\n",
    "grid_search.fit(X_train_depurado, y_train)\n"
   ]
  },
  {
   "cell_type": "code",
   "execution_count": null,
   "metadata": {},
   "outputs": [],
   "source": [
    "# Obtener mejores parámetros\n",
    "mejor_combinacion = grid_search.best_params_\n",
    "print(f\"\\nMejores parámetros para {nombre}:\")\n",
    "for param, valor in mejor_combinacion.items():\n",
    "    print(f\"{param.replace('regressor__', '')}: {valor}\")\n",
    "\n",
    "# Evaluar en el conjunto de prueba\n",
    "y_pred = grid_search.predict(X_test_depurado)\n",
    "mse = mean_squared_error(y_test, y_pred)\n",
    "r2 = r2_score(y_test, y_pred)\n",
    "\n",
    "print(f\"\\nResultados en conjunto de prueba para {nombre}:\")\n",
    "print(f\"MSE: {mse:.4f}\")\n",
    "print(f\"R²: {r2:.4f}\")"
   ]
  },
  {
   "cell_type": "code",
   "execution_count": null,
   "metadata": {},
   "outputs": [],
   "source": [
    "# Guardar resultados\n",
    "resultados_modelos[nombre] = {\n",
    "    'pipeline': grid_search,\n",
    "    'mejor_configuracion': mejor_combinacion,\n",
    "    'cv_results': grid_search.cv_results_,\n",
    "    'test_mse': mse,\n",
    "    'test_r2': r2\n",
    "}"
   ]
  },
  {
   "cell_type": "code",
   "execution_count": null,
   "metadata": {},
   "outputs": [],
   "source": [
    "# === Celda para XGBoost ===\n",
    "\n",
    "# Definir modelo y parámetros\n",
    "nombre = 'XGBoost'\n",
    "modelo = XGBRegressor(random_state=42)\n",
    "parametros = {\n",
    "    'n_estimators': [100, 200, 300],\n",
    "    'learning_rate': [0.01, 0.1, 0.2],\n",
    "    'max_depth': [3, 4, 5],\n",
    "    'min_child_weight': [1, 3, 5],\n",
    "    'subsample': [0.6, 0.8, 1.0],\n",
    "    'colsample_bytree': [0.6, 0.8, 1.0]\n",
    "}\n",
    "\n",
    "# Crear pipeline\n",
    "pipeline = Pipeline([\n",
    "    ('preprocessor', preprocessor),\n",
    "    ('regressor', modelo)\n",
    "])\n",
    "\n",
    "# Grid Search con validación cruzada repetida\n",
    "grid_search = GridSearchCV(\n",
    "    pipeline, \n",
    "    param_grid={f'regressor__{k}': v for k, v in parametros.items()}, \n",
    "    cv=RepeatedKFold(n_splits=5, n_repeats=3),\n",
    "    scoring=['neg_mean_squared_error', 'r2'],  # Usar múltiples métricas\n",
    "    refit='r2',  # Reajustar usando R2\n",
    "    verbose=1,   # Mostrar progreso\n",
    "    n_jobs=-1    # Usar todos los núcleos\n",
    ")"
   ]
  },
  {
   "cell_type": "code",
   "execution_count": null,
   "metadata": {},
   "outputs": [],
   "source": [
    "# Entrenar el modelo\n",
    "print(f\"Iniciando entrenamiento de {nombre}...\")\n",
    "grid_search.fit(X_train_depurado, y_train)"
   ]
  },
  {
   "cell_type": "code",
   "execution_count": null,
   "metadata": {},
   "outputs": [],
   "source": [
    "# Obtener mejores parámetros\n",
    "mejor_combinacion = grid_search.best_params_\n",
    "print(f\"\\nMejores parámetros para {nombre}:\")\n",
    "for param, valor in mejor_combinacion.items():\n",
    "    print(f\"{param.replace('regressor__', '')}: {valor}\")\n",
    "\n",
    "# Evaluar en el conjunto de prueba\n",
    "y_pred = grid_search.predict(X_test_depurado)\n",
    "mse = mean_squared_error(y_test, y_pred)\n",
    "r2 = r2_score(y_test, y_pred)\n",
    "\n",
    "print(f\"\\nResultados en conjunto de prueba para {nombre}:\")\n",
    "print(f\"MSE: {mse:.4f}\")\n",
    "print(f\"R²: {r2:.4f}\")"
   ]
  },
  {
   "cell_type": "code",
   "execution_count": null,
   "metadata": {},
   "outputs": [],
   "source": [
    "# Guardar resultados\n",
    "resultados_modelos[nombre] = {\n",
    "    'pipeline': grid_search,\n",
    "    'mejor_configuracion': mejor_combinacion,\n",
    "    'cv_results': grid_search.cv_results_,\n",
    "    'test_mse': mse,\n",
    "    'test_r2': r2\n",
    "}"
   ]
  },
  {
   "cell_type": "code",
   "execution_count": null,
   "metadata": {},
   "outputs": [],
   "source": [
    "# === Celda para comparar resultados ===\n",
    "\n",
    "# Mostrar resumen de resultados para todos los modelos entrenados\n",
    "if resultados_modelos:\n",
    "    print(\"RESUMEN DE RESULTADOS:\\n\")\n",
    "    \n",
    "    # Crear tabla comparativa\n",
    "    resultados_df = pd.DataFrame({\n",
    "        'Modelo': [],\n",
    "        'MSE Test': [],\n",
    "        'R² Test': []\n",
    "    })\n",
    "    \n",
    "    for nombre, resultado in resultados_modelos.items():\n",
    "        nueva_fila = pd.DataFrame({\n",
    "            'Modelo': [nombre],\n",
    "            'MSE Test': [resultado['test_mse']],\n",
    "            'R² Test': [resultado['test_r2']]\n",
    "        })\n",
    "        resultados_df = pd.concat([resultados_df, nueva_fila], ignore_index=True)\n",
    "    \n",
    "    # Ordenar por R² (descendente)\n",
    "    resultados_df = resultados_df.sort_values('R² Test', ascending=False).reset_index(drop=True)\n",
    "    \n",
    "    # Mostrar tabla\n",
    "    print(resultados_df)\n",
    "    \n",
    "    # Identificar el mejor modelo\n",
    "    mejor_modelo = resultados_df.iloc[0]['Modelo']\n",
    "    mejor_r2 = resultados_df.iloc[0]['R² Test']\n",
    "    mejor_mse = resultados_df.iloc[0]['MSE Test']\n",
    "    \n",
    "    print(f\"\\nMEJOR MODELO: {mejor_modelo}\")\n",
    "    print(f\"R² Test: {mejor_r2:.4f}\")\n",
    "    print(f\"MSE Test: {mejor_mse:.4f}\")\n",
    "    \n",
    "    # Mostrar los mejores parámetros del mejor modelo\n",
    "    print(\"\\nMejores parámetros:\")\n",
    "    for param, valor in resultados_modelos[mejor_modelo]['mejor_configuracion'].items():\n",
    "        print(f\"{param.replace('regressor__', '')}: {valor}\")\n",
    "else:\n",
    "    print(\"No hay modelos entrenados para comparar.\")"
   ]
  }
 ],
 "metadata": {
  "kernelspec": {
   "display_name": "base",
   "language": "python",
   "name": "python3"
  },
  "language_info": {
   "codemirror_mode": {
    "name": "ipython",
    "version": 3
   },
   "file_extension": ".py",
   "mimetype": "text/x-python",
   "name": "python",
   "nbconvert_exporter": "python",
   "pygments_lexer": "ipython3",
   "version": "3.12.4"
  }
 },
 "nbformat": 4,
 "nbformat_minor": 2
}
