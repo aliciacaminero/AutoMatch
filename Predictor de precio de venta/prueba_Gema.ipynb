{
 "cells": [
  {
   "cell_type": "code",
   "execution_count": 2,
   "metadata": {},
   "outputs": [],
   "source": [
    "import pandas as pd "
   ]
  },
  {
   "cell_type": "code",
   "execution_count": 3,
   "metadata": {},
   "outputs": [
    {
     "data": {
      "application/vnd.microsoft.datawrangler.viewer.v0+json": {
       "columns": [
        {
         "name": "index",
         "rawType": "int64",
         "type": "integer"
        },
        {
         "name": "make",
         "rawType": "object",
         "type": "string"
        },
        {
         "name": "model",
         "rawType": "object",
         "type": "string"
        },
        {
         "name": "version",
         "rawType": "object",
         "type": "string"
        },
        {
         "name": "fuel",
         "rawType": "object",
         "type": "string"
        },
        {
         "name": "year",
         "rawType": "int64",
         "type": "integer"
        },
        {
         "name": "kms",
         "rawType": "float64",
         "type": "float"
        },
        {
         "name": "power",
         "rawType": "float64",
         "type": "float"
        },
        {
         "name": "shift",
         "rawType": "object",
         "type": "string"
        },
        {
         "name": "price",
         "rawType": "int64",
         "type": "integer"
        },
        {
         "name": "province",
         "rawType": "object",
         "type": "string"
        }
       ],
       "conversionMethod": "pd.DataFrame",
       "ref": "4b050927-6f61-447b-b148-9b2bd6a6ba8c",
       "rows": [
        [
         "0",
         "Opel",
         "Crossland",
         "1.2 GAS 110 GS Line 5p S/S",
         "Gasolina",
         "2022",
         "5.0",
         "110.0",
         "manual",
         "22900",
         "Barcelona"
        ],
        [
         "1",
         "Opel",
         "Crossland",
         "1.2 81kW (110CV) GS Line",
         "Gasolina",
         "2022",
         "24847.0",
         "110.0",
         "manual",
         "19990",
         "Madrid"
        ],
        [
         "2",
         "Opel",
         "Crossland",
         "1.5D 88kW (120CV) Business Elegance Auto",
         "Diésel",
         "2021",
         "41356.0",
         "120.0",
         "automatic",
         "18590",
         "Madrid"
        ],
        [
         "3",
         "Opel",
         "Crossland",
         "GS-Line 1.2 GAS MT6 S/S 110cv",
         "Gasolina",
         "2022",
         "11.0",
         "110.0",
         "manual",
         "22700",
         "Barcelona"
        ],
        [
         "4",
         "Opel",
         "Crossland",
         "GS-Line 1.2 GAS MT6 S/S 110cv",
         "Gasolina",
         "2022",
         "11.0",
         "110.0",
         "manual",
         "22700",
         "Barcelona"
        ]
       ],
       "shape": {
        "columns": 10,
        "rows": 5
       }
      },
      "text/html": [
       "<div>\n",
       "<style scoped>\n",
       "    .dataframe tbody tr th:only-of-type {\n",
       "        vertical-align: middle;\n",
       "    }\n",
       "\n",
       "    .dataframe tbody tr th {\n",
       "        vertical-align: top;\n",
       "    }\n",
       "\n",
       "    .dataframe thead th {\n",
       "        text-align: right;\n",
       "    }\n",
       "</style>\n",
       "<table border=\"1\" class=\"dataframe\">\n",
       "  <thead>\n",
       "    <tr style=\"text-align: right;\">\n",
       "      <th></th>\n",
       "      <th>make</th>\n",
       "      <th>model</th>\n",
       "      <th>version</th>\n",
       "      <th>fuel</th>\n",
       "      <th>year</th>\n",
       "      <th>kms</th>\n",
       "      <th>power</th>\n",
       "      <th>shift</th>\n",
       "      <th>price</th>\n",
       "      <th>province</th>\n",
       "    </tr>\n",
       "  </thead>\n",
       "  <tbody>\n",
       "    <tr>\n",
       "      <th>0</th>\n",
       "      <td>Opel</td>\n",
       "      <td>Crossland</td>\n",
       "      <td>1.2 GAS 110 GS Line 5p S/S</td>\n",
       "      <td>Gasolina</td>\n",
       "      <td>2022</td>\n",
       "      <td>5.0</td>\n",
       "      <td>110.0</td>\n",
       "      <td>manual</td>\n",
       "      <td>22900</td>\n",
       "      <td>Barcelona</td>\n",
       "    </tr>\n",
       "    <tr>\n",
       "      <th>1</th>\n",
       "      <td>Opel</td>\n",
       "      <td>Crossland</td>\n",
       "      <td>1.2 81kW (110CV) GS Line</td>\n",
       "      <td>Gasolina</td>\n",
       "      <td>2022</td>\n",
       "      <td>24847.0</td>\n",
       "      <td>110.0</td>\n",
       "      <td>manual</td>\n",
       "      <td>19990</td>\n",
       "      <td>Madrid</td>\n",
       "    </tr>\n",
       "    <tr>\n",
       "      <th>2</th>\n",
       "      <td>Opel</td>\n",
       "      <td>Crossland</td>\n",
       "      <td>1.5D 88kW (120CV) Business Elegance Auto</td>\n",
       "      <td>Diésel</td>\n",
       "      <td>2021</td>\n",
       "      <td>41356.0</td>\n",
       "      <td>120.0</td>\n",
       "      <td>automatic</td>\n",
       "      <td>18590</td>\n",
       "      <td>Madrid</td>\n",
       "    </tr>\n",
       "    <tr>\n",
       "      <th>3</th>\n",
       "      <td>Opel</td>\n",
       "      <td>Crossland</td>\n",
       "      <td>GS-Line 1.2 GAS MT6 S/S 110cv</td>\n",
       "      <td>Gasolina</td>\n",
       "      <td>2022</td>\n",
       "      <td>11.0</td>\n",
       "      <td>110.0</td>\n",
       "      <td>manual</td>\n",
       "      <td>22700</td>\n",
       "      <td>Barcelona</td>\n",
       "    </tr>\n",
       "    <tr>\n",
       "      <th>4</th>\n",
       "      <td>Opel</td>\n",
       "      <td>Crossland</td>\n",
       "      <td>GS-Line 1.2 GAS MT6 S/S 110cv</td>\n",
       "      <td>Gasolina</td>\n",
       "      <td>2022</td>\n",
       "      <td>11.0</td>\n",
       "      <td>110.0</td>\n",
       "      <td>manual</td>\n",
       "      <td>22700</td>\n",
       "      <td>Barcelona</td>\n",
       "    </tr>\n",
       "  </tbody>\n",
       "</table>\n",
       "</div>"
      ],
      "text/plain": [
       "   make      model                                   version      fuel  year  \\\n",
       "0  Opel  Crossland                1.2 GAS 110 GS Line 5p S/S  Gasolina  2022   \n",
       "1  Opel  Crossland                  1.2 81kW (110CV) GS Line  Gasolina  2022   \n",
       "2  Opel  Crossland  1.5D 88kW (120CV) Business Elegance Auto    Diésel  2021   \n",
       "3  Opel  Crossland             GS-Line 1.2 GAS MT6 S/S 110cv  Gasolina  2022   \n",
       "4  Opel  Crossland             GS-Line 1.2 GAS MT6 S/S 110cv  Gasolina  2022   \n",
       "\n",
       "       kms  power      shift  price   province  \n",
       "0      5.0  110.0     manual  22900  Barcelona  \n",
       "1  24847.0  110.0     manual  19990     Madrid  \n",
       "2  41356.0  120.0  automatic  18590     Madrid  \n",
       "3     11.0  110.0     manual  22700  Barcelona  \n",
       "4     11.0  110.0     manual  22700  Barcelona  "
      ]
     },
     "execution_count": 3,
     "metadata": {},
     "output_type": "execute_result"
    }
   ],
   "source": [
    "df_modelo = pd.read_csv('df_EDA_predicprecio.csv')\n",
    "df_modelo.head()"
   ]
  },
  {
   "cell_type": "code",
   "execution_count": 4,
   "metadata": {},
   "outputs": [
    {
     "data": {
      "text/plain": [
       "(100000, 10)"
      ]
     },
     "execution_count": 4,
     "metadata": {},
     "output_type": "execute_result"
    }
   ],
   "source": [
    "df_modelo.shape"
   ]
  }
 ],
 "metadata": {
  "kernelspec": {
   "display_name": "base",
   "language": "python",
   "name": "python3"
  },
  "language_info": {
   "codemirror_mode": {
    "name": "ipython",
    "version": 3
   },
   "file_extension": ".py",
   "mimetype": "text/x-python",
   "name": "python",
   "nbconvert_exporter": "python",
   "pygments_lexer": "ipython3",
   "version": "3.12.4"
  }
 },
 "nbformat": 4,
 "nbformat_minor": 2
}
