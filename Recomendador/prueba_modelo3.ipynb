{
 "cells": [
  {
   "cell_type": "code",
   "execution_count": 19,
   "metadata": {},
   "outputs": [],
   "source": [
    "# Importamos todas las librerías que necesitaremos\n",
    "import numpy as np\n",
    "import pandas as pd\n",
    "from sklearn.model_selection import train_test_split, KFold\n",
    "from sklearn.preprocessing import StandardScaler, OneHotEncoder\n",
    "from sklearn.compose import ColumnTransformer\n",
    "from sklearn.pipeline import Pipeline\n",
    "from sklearn.ensemble import RandomForestRegressor\n",
    "from sklearn.metrics import mean_squared_error, mean_absolute_error, r2_score, mean_absolute_percentage_error\n",
    "from scipy import stats\n",
    "import matplotlib.pyplot as plt\n",
    "from xgboost import XGBRegressor\n",
    "from lightgbm import LGBMRegressor"
   ]
  },
  {
   "cell_type": "code",
   "execution_count": 20,
   "metadata": {},
   "outputs": [
    {
     "data": {
      "application/vnd.microsoft.datawrangler.viewer.v0+json": {
       "columns": [
        {
         "name": "index",
         "rawType": "int64",
         "type": "integer"
        },
        {
         "name": "make",
         "rawType": "object",
         "type": "string"
        },
        {
         "name": "model",
         "rawType": "object",
         "type": "string"
        },
        {
         "name": "version",
         "rawType": "object",
         "type": "string"
        },
        {
         "name": "fuel",
         "rawType": "object",
         "type": "string"
        },
        {
         "name": "year",
         "rawType": "int64",
         "type": "integer"
        },
        {
         "name": "kms",
         "rawType": "float64",
         "type": "float"
        },
        {
         "name": "power",
         "rawType": "float64",
         "type": "float"
        },
        {
         "name": "shift",
         "rawType": "object",
         "type": "string"
        },
        {
         "name": "price",
         "rawType": "int64",
         "type": "integer"
        },
        {
         "name": "dealer_name",
         "rawType": "object",
         "type": "string"
        },
        {
         "name": "dealer_address",
         "rawType": "object",
         "type": "string"
        },
        {
         "name": "dealer_city",
         "rawType": "object",
         "type": "string"
        },
        {
         "name": "dealer_zip_code",
         "rawType": "int64",
         "type": "integer"
        },
        {
         "name": "province",
         "rawType": "object",
         "type": "string"
        },
        {
         "name": "vehicle_age",
         "rawType": "int64",
         "type": "integer"
        },
        {
         "name": "price_per_power",
         "rawType": "float64",
         "type": "float"
        },
        {
         "name": "price_per_year",
         "rawType": "float64",
         "type": "float"
        },
        {
         "name": "dealer_info",
         "rawType": "object",
         "type": "string"
        },
        {
         "name": "power_per_kms",
         "rawType": "float64",
         "type": "float"
        },
        {
         "name": "make_popularity",
         "rawType": "int64",
         "type": "integer"
        },
        {
         "name": "model_popularity",
         "rawType": "int64",
         "type": "integer"
        },
        {
         "name": "big_city_dealer",
         "rawType": "int64",
         "type": "integer"
        },
        {
         "name": "price_range",
         "rawType": "object",
         "type": "string"
        }
       ],
       "conversionMethod": "pd.DataFrame",
       "ref": "167ce0ca-e574-4a74-ad05-f83b08dbc996",
       "rows": [
        [
         "0",
         "Opel",
         "Crossland",
         "1.2 GAS 110 GS Line 5p S/S",
         "Gasolina",
         "2022",
         "5.0",
         "110.0",
         "manual",
         "22900",
         "Sergio Y.",
         "2, Carrer de Jacint Benavente, Poblenou, Pineda de Mar, Maresme, Barcelona, Catalunya, 08397, España",
         "Pineda de Mar",
         "8397",
         "Barcelona",
         "3",
         "208.19",
         "7633.34",
         "Sergio Y.\r\n2, Carrer de Jacint Benavente, Poblenou, Pineda de Mar, Maresme, Barcelona, Catalunya, 08397, España\r\nPineda de Mar, Barcelona\r\nCP: 8397",
         "22.0",
         "4591",
         "158",
         "0",
         "20-30k"
        ],
        [
         "1",
         "Opel",
         "Crossland",
         "1.2 81kW (110CV) GS Line",
         "Gasolina",
         "2022",
         "24847.0",
         "110.0",
         "manual",
         "19990",
         "Peugeot Alcala 534",
         "Avenida de José Gárate, Coslada, Área metropolitana de Madrid y Corredor del Henares, Comunidad de Madrid, 28823, España",
         "Coslada",
         "28823",
         "Madrid",
         "3",
         "181.73",
         "6663.34",
         "Peugeot Alcala 534\r\nAvenida de José Gárate, Coslada, Área metropolitana de Madrid y Corredor del Henares, Comunidad de Madrid, 28823, España\r\nCoslada, Madrid\r\nCP: 28823",
         "0.0044270938141425",
         "4591",
         "158",
         "0",
         "10-20k"
        ],
        [
         "2",
         "Opel",
         "Crossland",
         "1.5D 88kW (120CV) Business Elegance Auto",
         "Diésel",
         "2021",
         "41356.0",
         "120.0",
         "automatic",
         "18590",
         "Clicars S.",
         "San Cristóbal, Avenida de Andalucía, San Cristóbal, Villaverde, Madrid, Área metropolitana de Madrid y Corredor del Henares, Comunidad de Madrid, 28021, España",
         "Madrid",
         "28021",
         "Madrid",
         "4",
         "154.92",
         "4647.5",
         "Clicars S.\r\nSan Cristóbal, Avenida de Andalucía, San Cristóbal, Villaverde, Madrid, Área metropolitana de Madrid y Corredor del Henares, Comunidad de Madrid, 28021, España\r\nMadrid, Madrid\r\nCP: 28021",
         "0.0029016345874842",
         "4591",
         "158",
         "1",
         "10-20k"
        ],
        [
         "3",
         "Opel",
         "Crossland",
         "GS-Line 1.2 GAS MT6 S/S 110cv",
         "Gasolina",
         "2022",
         "11.0",
         "110.0",
         "manual",
         "22700",
         "Vallescar S.",
         "Parc de Bombers de Sabadell, 52, Carretera de Barcelona, Gràcia, Sabadell, Vallès Occidental, Barcelona, Catalunya, 08205, España",
         "Sabadell",
         "8200",
         "Barcelona",
         "3",
         "206.37",
         "7566.67",
         "Vallescar S.\r\nParc de Bombers de Sabadell, 52, Carretera de Barcelona, Gràcia, Sabadell, Vallès Occidental, Barcelona, Catalunya, 08205, España\r\nSabadell, Barcelona\r\nCP: 8200",
         "10.0",
         "4591",
         "158",
         "0",
         "20-30k"
        ],
        [
         "4",
         "Opel",
         "Crossland",
         "GS-Line 1.2 GAS MT6 S/S 110cv",
         "Gasolina",
         "2022",
         "11.0",
         "110.0",
         "manual",
         "22700",
         "Vallescar Ocasion M.",
         "27, Carrer de Fèlix Ferran, Mollet del Vallès, Vallès Oriental, Barcelona, Catalunya, 08100, España",
         "Mollet del Vallès",
         "8100",
         "Barcelona",
         "3",
         "206.37",
         "7566.67",
         "Vallescar Ocasion M.\r\n27, Carrer de Fèlix Ferran, Mollet del Vallès, Vallès Oriental, Barcelona, Catalunya, 08100, España\r\nMollet del Vallès, Barcelona\r\nCP: 8100",
         "10.0",
         "4591",
         "158",
         "0",
         "20-30k"
        ]
       ],
       "shape": {
        "columns": 23,
        "rows": 5
       }
      },
      "text/html": [
       "<div>\n",
       "<style scoped>\n",
       "    .dataframe tbody tr th:only-of-type {\n",
       "        vertical-align: middle;\n",
       "    }\n",
       "\n",
       "    .dataframe tbody tr th {\n",
       "        vertical-align: top;\n",
       "    }\n",
       "\n",
       "    .dataframe thead th {\n",
       "        text-align: right;\n",
       "    }\n",
       "</style>\n",
       "<table border=\"1\" class=\"dataframe\">\n",
       "  <thead>\n",
       "    <tr style=\"text-align: right;\">\n",
       "      <th></th>\n",
       "      <th>make</th>\n",
       "      <th>model</th>\n",
       "      <th>version</th>\n",
       "      <th>fuel</th>\n",
       "      <th>year</th>\n",
       "      <th>kms</th>\n",
       "      <th>power</th>\n",
       "      <th>shift</th>\n",
       "      <th>price</th>\n",
       "      <th>dealer_name</th>\n",
       "      <th>...</th>\n",
       "      <th>province</th>\n",
       "      <th>vehicle_age</th>\n",
       "      <th>price_per_power</th>\n",
       "      <th>price_per_year</th>\n",
       "      <th>dealer_info</th>\n",
       "      <th>power_per_kms</th>\n",
       "      <th>make_popularity</th>\n",
       "      <th>model_popularity</th>\n",
       "      <th>big_city_dealer</th>\n",
       "      <th>price_range</th>\n",
       "    </tr>\n",
       "  </thead>\n",
       "  <tbody>\n",
       "    <tr>\n",
       "      <th>0</th>\n",
       "      <td>Opel</td>\n",
       "      <td>Crossland</td>\n",
       "      <td>1.2 GAS 110 GS Line 5p S/S</td>\n",
       "      <td>Gasolina</td>\n",
       "      <td>2022</td>\n",
       "      <td>5.0</td>\n",
       "      <td>110.0</td>\n",
       "      <td>manual</td>\n",
       "      <td>22900</td>\n",
       "      <td>Sergio Y.</td>\n",
       "      <td>...</td>\n",
       "      <td>Barcelona</td>\n",
       "      <td>3</td>\n",
       "      <td>208.19</td>\n",
       "      <td>7633.34</td>\n",
       "      <td>Sergio Y.\\r\\n2, Carrer de Jacint Benavente, Po...</td>\n",
       "      <td>22.000000</td>\n",
       "      <td>4591</td>\n",
       "      <td>158</td>\n",
       "      <td>0</td>\n",
       "      <td>20-30k</td>\n",
       "    </tr>\n",
       "    <tr>\n",
       "      <th>1</th>\n",
       "      <td>Opel</td>\n",
       "      <td>Crossland</td>\n",
       "      <td>1.2 81kW (110CV) GS Line</td>\n",
       "      <td>Gasolina</td>\n",
       "      <td>2022</td>\n",
       "      <td>24847.0</td>\n",
       "      <td>110.0</td>\n",
       "      <td>manual</td>\n",
       "      <td>19990</td>\n",
       "      <td>Peugeot Alcala 534</td>\n",
       "      <td>...</td>\n",
       "      <td>Madrid</td>\n",
       "      <td>3</td>\n",
       "      <td>181.73</td>\n",
       "      <td>6663.34</td>\n",
       "      <td>Peugeot Alcala 534\\r\\nAvenida de José Gárate, ...</td>\n",
       "      <td>0.004427</td>\n",
       "      <td>4591</td>\n",
       "      <td>158</td>\n",
       "      <td>0</td>\n",
       "      <td>10-20k</td>\n",
       "    </tr>\n",
       "    <tr>\n",
       "      <th>2</th>\n",
       "      <td>Opel</td>\n",
       "      <td>Crossland</td>\n",
       "      <td>1.5D 88kW (120CV) Business Elegance Auto</td>\n",
       "      <td>Diésel</td>\n",
       "      <td>2021</td>\n",
       "      <td>41356.0</td>\n",
       "      <td>120.0</td>\n",
       "      <td>automatic</td>\n",
       "      <td>18590</td>\n",
       "      <td>Clicars S.</td>\n",
       "      <td>...</td>\n",
       "      <td>Madrid</td>\n",
       "      <td>4</td>\n",
       "      <td>154.92</td>\n",
       "      <td>4647.50</td>\n",
       "      <td>Clicars S.\\r\\nSan Cristóbal, Avenida de Andalu...</td>\n",
       "      <td>0.002902</td>\n",
       "      <td>4591</td>\n",
       "      <td>158</td>\n",
       "      <td>1</td>\n",
       "      <td>10-20k</td>\n",
       "    </tr>\n",
       "    <tr>\n",
       "      <th>3</th>\n",
       "      <td>Opel</td>\n",
       "      <td>Crossland</td>\n",
       "      <td>GS-Line 1.2 GAS MT6 S/S 110cv</td>\n",
       "      <td>Gasolina</td>\n",
       "      <td>2022</td>\n",
       "      <td>11.0</td>\n",
       "      <td>110.0</td>\n",
       "      <td>manual</td>\n",
       "      <td>22700</td>\n",
       "      <td>Vallescar S.</td>\n",
       "      <td>...</td>\n",
       "      <td>Barcelona</td>\n",
       "      <td>3</td>\n",
       "      <td>206.37</td>\n",
       "      <td>7566.67</td>\n",
       "      <td>Vallescar S.\\r\\nParc de Bombers de Sabadell, 5...</td>\n",
       "      <td>10.000000</td>\n",
       "      <td>4591</td>\n",
       "      <td>158</td>\n",
       "      <td>0</td>\n",
       "      <td>20-30k</td>\n",
       "    </tr>\n",
       "    <tr>\n",
       "      <th>4</th>\n",
       "      <td>Opel</td>\n",
       "      <td>Crossland</td>\n",
       "      <td>GS-Line 1.2 GAS MT6 S/S 110cv</td>\n",
       "      <td>Gasolina</td>\n",
       "      <td>2022</td>\n",
       "      <td>11.0</td>\n",
       "      <td>110.0</td>\n",
       "      <td>manual</td>\n",
       "      <td>22700</td>\n",
       "      <td>Vallescar Ocasion M.</td>\n",
       "      <td>...</td>\n",
       "      <td>Barcelona</td>\n",
       "      <td>3</td>\n",
       "      <td>206.37</td>\n",
       "      <td>7566.67</td>\n",
       "      <td>Vallescar Ocasion M.\\r\\n27, Carrer de Fèlix Fe...</td>\n",
       "      <td>10.000000</td>\n",
       "      <td>4591</td>\n",
       "      <td>158</td>\n",
       "      <td>0</td>\n",
       "      <td>20-30k</td>\n",
       "    </tr>\n",
       "  </tbody>\n",
       "</table>\n",
       "<p>5 rows × 23 columns</p>\n",
       "</div>"
      ],
      "text/plain": [
       "   make      model                                   version      fuel  year  \\\n",
       "0  Opel  Crossland                1.2 GAS 110 GS Line 5p S/S  Gasolina  2022   \n",
       "1  Opel  Crossland                  1.2 81kW (110CV) GS Line  Gasolina  2022   \n",
       "2  Opel  Crossland  1.5D 88kW (120CV) Business Elegance Auto    Diésel  2021   \n",
       "3  Opel  Crossland             GS-Line 1.2 GAS MT6 S/S 110cv  Gasolina  2022   \n",
       "4  Opel  Crossland             GS-Line 1.2 GAS MT6 S/S 110cv  Gasolina  2022   \n",
       "\n",
       "       kms  power      shift  price           dealer_name  ...   province  \\\n",
       "0      5.0  110.0     manual  22900             Sergio Y.  ...  Barcelona   \n",
       "1  24847.0  110.0     manual  19990    Peugeot Alcala 534  ...     Madrid   \n",
       "2  41356.0  120.0  automatic  18590            Clicars S.  ...     Madrid   \n",
       "3     11.0  110.0     manual  22700          Vallescar S.  ...  Barcelona   \n",
       "4     11.0  110.0     manual  22700  Vallescar Ocasion M.  ...  Barcelona   \n",
       "\n",
       "  vehicle_age  price_per_power price_per_year  \\\n",
       "0           3           208.19        7633.34   \n",
       "1           3           181.73        6663.34   \n",
       "2           4           154.92        4647.50   \n",
       "3           3           206.37        7566.67   \n",
       "4           3           206.37        7566.67   \n",
       "\n",
       "                                         dealer_info  power_per_kms  \\\n",
       "0  Sergio Y.\\r\\n2, Carrer de Jacint Benavente, Po...      22.000000   \n",
       "1  Peugeot Alcala 534\\r\\nAvenida de José Gárate, ...       0.004427   \n",
       "2  Clicars S.\\r\\nSan Cristóbal, Avenida de Andalu...       0.002902   \n",
       "3  Vallescar S.\\r\\nParc de Bombers de Sabadell, 5...      10.000000   \n",
       "4  Vallescar Ocasion M.\\r\\n27, Carrer de Fèlix Fe...      10.000000   \n",
       "\n",
       "   make_popularity model_popularity  big_city_dealer  price_range  \n",
       "0             4591              158                0       20-30k  \n",
       "1             4591              158                0       10-20k  \n",
       "2             4591              158                1       10-20k  \n",
       "3             4591              158                0       20-30k  \n",
       "4             4591              158                0       20-30k  \n",
       "\n",
       "[5 rows x 23 columns]"
      ]
     },
     "execution_count": 20,
     "metadata": {},
     "output_type": "execute_result"
    }
   ],
   "source": [
    "df_modelo = pd.read_csv('df_eda_limpio.csv')\n",
    "df_modelo.head()"
   ]
  },
  {
   "cell_type": "code",
   "execution_count": 21,
   "metadata": {},
   "outputs": [],
   "source": [
    "# Características originales\n",
    "features = ['year', 'kms', 'power', 'vehicle_age', 'fuel', 'shift', 'make', 'model']\n",
    "target = 'price'\n",
    "\n",
    "# Separamos en variables originales\n",
    "X = df_modelo[features].copy()\n",
    "y = df_modelo[target]"
   ]
  },
  {
   "cell_type": "code",
   "execution_count": 22,
   "metadata": {},
   "outputs": [
    {
     "data": {
      "application/vnd.microsoft.datawrangler.viewer.v0+json": {
       "columns": [
        {
         "name": "index",
         "rawType": "int64",
         "type": "integer"
        },
        {
         "name": "year",
         "rawType": "int64",
         "type": "integer"
        },
        {
         "name": "kms",
         "rawType": "float64",
         "type": "float"
        },
        {
         "name": "power",
         "rawType": "float64",
         "type": "float"
        },
        {
         "name": "vehicle_age",
         "rawType": "int64",
         "type": "integer"
        },
        {
         "name": "fuel",
         "rawType": "object",
         "type": "string"
        },
        {
         "name": "shift",
         "rawType": "object",
         "type": "string"
        },
        {
         "name": "make",
         "rawType": "object",
         "type": "string"
        },
        {
         "name": "model",
         "rawType": "object",
         "type": "string"
        },
        {
         "name": "power_per_age",
         "rawType": "float64",
         "type": "float"
        },
        {
         "name": "km_per_year",
         "rawType": "float64",
         "type": "float"
        },
        {
         "name": "log_kms",
         "rawType": "float64",
         "type": "float"
        }
       ],
       "conversionMethod": "pd.DataFrame",
       "ref": "43f3e78d-591a-4afe-a54a-2643f5bbfb22",
       "rows": [
        [
         "0",
         "2022",
         "5.0",
         "110.0",
         "3",
         "Gasolina",
         "manual",
         "Opel",
         "Crossland",
         "27.5",
         "1.25",
         "1.791759469228055"
        ],
        [
         "1",
         "2022",
         "24847.0",
         "110.0",
         "3",
         "Gasolina",
         "manual",
         "Opel",
         "Crossland",
         "27.5",
         "6211.75",
         "10.120532545388468"
        ],
        [
         "2",
         "2021",
         "41356.0",
         "120.0",
         "4",
         "Diésel",
         "automatic",
         "Opel",
         "Crossland",
         "24.0",
         "8271.2",
         "10.629996972702473"
        ],
        [
         "3",
         "2022",
         "11.0",
         "110.0",
         "3",
         "Gasolina",
         "manual",
         "Opel",
         "Crossland",
         "27.5",
         "2.75",
         "2.4849066497880004"
        ],
        [
         "4",
         "2022",
         "11.0",
         "110.0",
         "3",
         "Gasolina",
         "manual",
         "Opel",
         "Crossland",
         "27.5",
         "2.75",
         "2.4849066497880004"
        ]
       ],
       "shape": {
        "columns": 11,
        "rows": 5
       }
      },
      "text/html": [
       "<div>\n",
       "<style scoped>\n",
       "    .dataframe tbody tr th:only-of-type {\n",
       "        vertical-align: middle;\n",
       "    }\n",
       "\n",
       "    .dataframe tbody tr th {\n",
       "        vertical-align: top;\n",
       "    }\n",
       "\n",
       "    .dataframe thead th {\n",
       "        text-align: right;\n",
       "    }\n",
       "</style>\n",
       "<table border=\"1\" class=\"dataframe\">\n",
       "  <thead>\n",
       "    <tr style=\"text-align: right;\">\n",
       "      <th></th>\n",
       "      <th>year</th>\n",
       "      <th>kms</th>\n",
       "      <th>power</th>\n",
       "      <th>vehicle_age</th>\n",
       "      <th>fuel</th>\n",
       "      <th>shift</th>\n",
       "      <th>make</th>\n",
       "      <th>model</th>\n",
       "      <th>power_per_age</th>\n",
       "      <th>km_per_year</th>\n",
       "      <th>log_kms</th>\n",
       "    </tr>\n",
       "  </thead>\n",
       "  <tbody>\n",
       "    <tr>\n",
       "      <th>0</th>\n",
       "      <td>2022</td>\n",
       "      <td>5.0</td>\n",
       "      <td>110.0</td>\n",
       "      <td>3</td>\n",
       "      <td>Gasolina</td>\n",
       "      <td>manual</td>\n",
       "      <td>Opel</td>\n",
       "      <td>Crossland</td>\n",
       "      <td>27.5</td>\n",
       "      <td>1.25</td>\n",
       "      <td>1.791759</td>\n",
       "    </tr>\n",
       "    <tr>\n",
       "      <th>1</th>\n",
       "      <td>2022</td>\n",
       "      <td>24847.0</td>\n",
       "      <td>110.0</td>\n",
       "      <td>3</td>\n",
       "      <td>Gasolina</td>\n",
       "      <td>manual</td>\n",
       "      <td>Opel</td>\n",
       "      <td>Crossland</td>\n",
       "      <td>27.5</td>\n",
       "      <td>6211.75</td>\n",
       "      <td>10.120533</td>\n",
       "    </tr>\n",
       "    <tr>\n",
       "      <th>2</th>\n",
       "      <td>2021</td>\n",
       "      <td>41356.0</td>\n",
       "      <td>120.0</td>\n",
       "      <td>4</td>\n",
       "      <td>Diésel</td>\n",
       "      <td>automatic</td>\n",
       "      <td>Opel</td>\n",
       "      <td>Crossland</td>\n",
       "      <td>24.0</td>\n",
       "      <td>8271.20</td>\n",
       "      <td>10.629997</td>\n",
       "    </tr>\n",
       "    <tr>\n",
       "      <th>3</th>\n",
       "      <td>2022</td>\n",
       "      <td>11.0</td>\n",
       "      <td>110.0</td>\n",
       "      <td>3</td>\n",
       "      <td>Gasolina</td>\n",
       "      <td>manual</td>\n",
       "      <td>Opel</td>\n",
       "      <td>Crossland</td>\n",
       "      <td>27.5</td>\n",
       "      <td>2.75</td>\n",
       "      <td>2.484907</td>\n",
       "    </tr>\n",
       "    <tr>\n",
       "      <th>4</th>\n",
       "      <td>2022</td>\n",
       "      <td>11.0</td>\n",
       "      <td>110.0</td>\n",
       "      <td>3</td>\n",
       "      <td>Gasolina</td>\n",
       "      <td>manual</td>\n",
       "      <td>Opel</td>\n",
       "      <td>Crossland</td>\n",
       "      <td>27.5</td>\n",
       "      <td>2.75</td>\n",
       "      <td>2.484907</td>\n",
       "    </tr>\n",
       "  </tbody>\n",
       "</table>\n",
       "</div>"
      ],
      "text/plain": [
       "   year      kms  power  vehicle_age      fuel      shift  make      model  \\\n",
       "0  2022      5.0  110.0            3  Gasolina     manual  Opel  Crossland   \n",
       "1  2022  24847.0  110.0            3  Gasolina     manual  Opel  Crossland   \n",
       "2  2021  41356.0  120.0            4    Diésel  automatic  Opel  Crossland   \n",
       "3  2022     11.0  110.0            3  Gasolina     manual  Opel  Crossland   \n",
       "4  2022     11.0  110.0            3  Gasolina     manual  Opel  Crossland   \n",
       "\n",
       "   power_per_age  km_per_year    log_kms  \n",
       "0           27.5         1.25   1.791759  \n",
       "1           27.5      6211.75  10.120533  \n",
       "2           24.0      8271.20  10.629997  \n",
       "3           27.5         2.75   2.484907  \n",
       "4           27.5         2.75   2.484907  "
      ]
     },
     "execution_count": 22,
     "metadata": {},
     "output_type": "execute_result"
    }
   ],
   "source": [
    "# Creamos nuevas características que pueden aportar valor al modelo\n",
    "# Potencia relativa a la edad (los coches potentes pierden valor más rápido con la edad)\n",
    "X['power_per_age'] = df_modelo['power'] / (df_modelo['vehicle_age'] + 1)\n",
    "\n",
    "# Kilometraje anual (un indicador importante del uso del vehículo)\n",
    "X['km_per_year'] = df_modelo['kms'] / (df_modelo['vehicle_age'] + 1)\n",
    "\n",
    "# Transformación logarítmica de kilometraje (suaviza valores extremos)\n",
    "X['log_kms'] = np.log1p(df_modelo['kms'])\n",
    "\n",
    "# Mostramos las primeras filas de nuestro dataset mejorado\n",
    "X.head()"
   ]
  },
  {
   "cell_type": "code",
   "execution_count": 23,
   "metadata": {},
   "outputs": [
    {
     "name": "stdout",
     "output_type": "stream",
     "text": [
      "Registros originales: 91040\n",
      "Registros después de eliminar outliers: 86774\n",
      "Registros eliminados: 4266 (4.69%)\n"
     ]
    }
   ],
   "source": [
    "# Definimos cuáles son las características numéricas, incluyendo las nuevas\n",
    "numeric_features = ['year', 'kms', 'power', 'vehicle_age']\n",
    "numeric_features_extended = numeric_features + ['power_per_age', 'km_per_year', 'log_kms']\n",
    "categorical_features = ['fuel', 'shift', 'make', 'model']\n",
    "\n",
    "# Detectamos outliers mediante Z-score\n",
    "# Calculamos los Z-scores para características numéricas\n",
    "z_scores = stats.zscore(X[numeric_features_extended])\n",
    "abs_z_scores = np.abs(z_scores)\n",
    "\n",
    "# Consideramos outliers valores con Z-score > 3 (muy alejados de la media)\n",
    "filtered_entries = (abs_z_scores < 3).all(axis=1)\n",
    "\n",
    "# Filtramos el dataset para eliminar los outliers\n",
    "X_filtered = X[filtered_entries]\n",
    "y_filtered = y[filtered_entries]\n",
    "\n",
    "# Comprobamos cuántos registros se eliminaron\n",
    "print(f\"Registros originales: {len(X)}\")\n",
    "print(f\"Registros después de eliminar outliers: {len(X_filtered)}\")\n",
    "print(f\"Registros eliminados: {len(X) - len(X_filtered)} ({(len(X) - len(X_filtered))/len(X)*100:.2f}%)\")"
   ]
  },
  {
   "cell_type": "code",
   "execution_count": 24,
   "metadata": {},
   "outputs": [
    {
     "name": "stdout",
     "output_type": "stream",
     "text": [
      "X_train shape: (69419, 11)\n",
      "X_test shape: (17355, 11)\n",
      "y_train shape: (69419,)\n",
      "y_test shape: (17355,)\n"
     ]
    }
   ],
   "source": [
    "# Dividimos los datos en conjuntos de entrenamiento y prueba\n",
    "X_train, X_test, y_train, y_test = train_test_split(\n",
    "    X_filtered, y_filtered, test_size=0.2, random_state=42\n",
    ")\n",
    "\n",
    "# Verificamos las dimensiones de los conjuntos\n",
    "print(f\"X_train shape: {X_train.shape}\")\n",
    "print(f\"X_test shape: {X_test.shape}\")\n",
    "print(f\"y_train shape: {y_train.shape}\")\n",
    "print(f\"y_test shape: {y_test.shape}\")"
   ]
  },
  {
   "cell_type": "code",
   "execution_count": 38,
   "metadata": {},
   "outputs": [],
   "source": [
    "# Definimos el preprocesador para las características numéricas y categóricas\n",
    "preprocessor = ColumnTransformer(\n",
    "    transformers=[\n",
    "        # Estandarizamos variables numéricas (media 0, desviación 1)\n",
    "        ('num', StandardScaler(), numeric_features_extended),\n",
    "        # Codificamos variables categóricas con one-hot encoding\n",
    "        ('cat', OneHotEncoder(handle_unknown='ignore'), categorical_features)\n",
    "    ])\n",
    "\n",
    "# Este preprocesador se aplicará de forma automática en el pipeline"
   ]
  },
  {
   "cell_type": "code",
   "execution_count": 39,
   "metadata": {},
   "outputs": [],
   "source": [
    "# Definimos varios modelos avanzados con configuraciones iniciales\n",
    "# RandomForest con mayor número de árboles\n",
    "rf_model = RandomForestRegressor(\n",
    "    n_estimators=300,  # Más árboles para mejor generalización\n",
    "    max_depth=None,    # Permitimos árboles profundos\n",
    "    min_samples_split=2,\n",
    "    random_state=42\n",
    ")"
   ]
  },
  {
   "cell_type": "code",
   "execution_count": 40,
   "metadata": {},
   "outputs": [],
   "source": [
    "# XGBoost con regularización para evitar sobreajuste\n",
    "xgb_model = XGBRegressor(\n",
    "    n_estimators=300,\n",
    "    learning_rate=0.05,  # Tasa de aprendizaje baja para mejor generalización\n",
    "    max_depth=6,         # Profundidad controlada\n",
    "    reg_lambda=1.0,      # Regularización L2\n",
    "    random_state=42\n",
    ")"
   ]
  },
  {
   "cell_type": "code",
   "execution_count": 41,
   "metadata": {},
   "outputs": [],
   "source": [
    "# Actualizamos el diccionario de modelos\n",
    "models = {\n",
    "    'RandomForest': rf_model,\n",
    "    'XGBoost': xgb_model\n",
    "}"
   ]
  },
  {
   "cell_type": "code",
   "execution_count": 43,
   "metadata": {},
   "outputs": [
    {
     "name": "stdout",
     "output_type": "stream",
     "text": [
      "Entrenando modelo: RandomForest\n",
      "  Fold 1: R² = 0.9677\n",
      "  Fold 2: R² = 0.9705\n",
      "  Fold 3: R² = 0.9696\n",
      "  Fold 4: R² = 0.9746\n",
      "  Fold 5: R² = 0.9748\n",
      "  Media R²: 0.9715 (±0.0028)\n",
      "--------------------------------------------------\n",
      "Entrenando modelo: XGBoost\n",
      "  Fold 1: R² = 0.8800\n",
      "  Fold 2: R² = 0.8819\n",
      "  Fold 3: R² = 0.8781\n",
      "  Fold 4: R² = 0.8864\n",
      "  Fold 5: R² = 0.8869\n",
      "  Media R²: 0.8827 (±0.0035)\n",
      "--------------------------------------------------\n"
     ]
    }
   ],
   "source": [
    "# Configuramos la validación cruzada con 5 folds\n",
    "cv_results = {}\n",
    "kf = KFold(n_splits=5, shuffle=True, random_state=42)\n",
    "\n",
    "# Para cada modelo, ejecutamos validación cruzada y guardamos los resultados\n",
    "for name, model in models.items():\n",
    "    print(f\"Entrenando modelo: {name}\")\n",
    "    \n",
    "    # Creamos un pipeline que incluye preprocesamiento y modelo\n",
    "    pipeline = Pipeline([\n",
    "        ('preprocessor', preprocessor),\n",
    "        ('model', model)\n",
    "    ])\n",
    "    \n",
    "    # Almacenamos los scores de cada fold\n",
    "    scores = []\n",
    "    \n",
    "    # Realizamos la validación cruzada\n",
    "    for fold, (train_idx, test_idx) in enumerate(kf.split(X_train)):\n",
    "        # Separamos los datos para este fold\n",
    "        X_train_cv, X_val_cv = X_train.iloc[train_idx], X_train.iloc[test_idx]\n",
    "        y_train_cv, y_val_cv = y_train.iloc[train_idx], y_train.iloc[test_idx]\n",
    "        \n",
    "        # Entrenamos el pipeline\n",
    "        pipeline.fit(X_train_cv, y_train_cv)\n",
    "        \n",
    "        # Evaluamos en el conjunto de validación\n",
    "        y_pred_cv = pipeline.predict(X_val_cv)\n",
    "        fold_score = r2_score(y_val_cv, y_pred_cv)\n",
    "        scores.append(fold_score)\n",
    "        \n",
    "        print(f\"  Fold {fold+1}: R² = {fold_score:.4f}\")\n",
    "    \n",
    "    # Calculamos estadísticas de los scores\n",
    "    mean_score = np.mean(scores)\n",
    "    std_score = np.std(scores)\n",
    "    \n",
    "    print(f\"  Media R²: {mean_score:.4f} (±{std_score:.4f})\")\n",
    "    \n",
    "    # Entrenamos el modelo con todos los datos de entrenamiento\n",
    "    pipeline.fit(X_train, y_train)\n",
    "    \n",
    "    # Guardamos los resultados\n",
    "    cv_results[name] = {\n",
    "        'mean_r2': mean_score,\n",
    "        'std_r2': std_score,\n",
    "        'pipeline': pipeline\n",
    "    }\n",
    "    \n",
    "    print(\"-\" * 50)"
   ]
  },
  {
   "cell_type": "code",
   "execution_count": 44,
   "metadata": {},
   "outputs": [
    {
     "name": "stdout",
     "output_type": "stream",
     "text": [
      "Resultados para RandomForest:\n",
      "  RMSE: 1311.00 €\n",
      "  MAE: 296.46 €\n",
      "  MAPE: 0.2045 %\n",
      "  R²: 0.9791\n",
      "--------------------------------------------------\n",
      "Resultados para XGBoost:\n",
      "  RMSE: 3033.75 €\n",
      "  MAE: 1911.77 €\n",
      "  MAPE: 1.0285 %\n",
      "  R²: 0.8879\n",
      "--------------------------------------------------\n"
     ]
    }
   ],
   "source": [
    "# Evaluamos cada modelo individualmente en el conjunto de prueba\n",
    "individual_results = {}\n",
    "\n",
    "for name, result in cv_results.items():\n",
    "    pipeline = result['pipeline']\n",
    "    y_pred = pipeline.predict(X_test)\n",
    "    \n",
    "    # Calculamos métricas de rendimiento\n",
    "    rmse = np.sqrt(mean_squared_error(y_test, y_pred))\n",
    "    mae = mean_absolute_error(y_test, y_pred)\n",
    "    mape = mean_absolute_percentage_error(y_test, y_pred)\n",
    "    r2 = r2_score(y_test, y_pred)\n",
    "    \n",
    "    individual_results[name] = {\n",
    "        'rmse': rmse,\n",
    "        'mae': mae,\n",
    "        'mape': mape,\n",
    "        'r2': r2,\n",
    "        'predictions': y_pred\n",
    "    }\n",
    "    \n",
    "    print(f\"Resultados para {name}:\")\n",
    "    print(f\"  RMSE: {rmse:.2f} €\")\n",
    "    print(f\"  MAE: {mae:.2f} €\")\n",
    "    print(f\"  MAPE: {mape:.4f} %\")\n",
    "    print(f\"  R²: {r2:.4f}\")\n",
    "    print(\"-\" * 50)"
   ]
  },
  {
   "cell_type": "code",
   "execution_count": 45,
   "metadata": {},
   "outputs": [
    {
     "name": "stdout",
     "output_type": "stream",
     "text": [
      "Peso asignado a RandomForest: 0.5239\n",
      "Peso asignado a XGBoost: 0.4761\n"
     ]
    }
   ],
   "source": [
    "# Creamos un ensemble ponderado basado en el rendimiento en validación cruzada\n",
    "predictions = {}\n",
    "weights = {}\n",
    "total_weight = 0\n",
    "\n",
    "# Calculamos los pesos basados en el R² de la validación cruzada\n",
    "for name, result in cv_results.items():\n",
    "    # Obtenemos las predicciones del modelo para el conjunto de prueba\n",
    "    predictions[name] = individual_results[name]['predictions']\n",
    "    \n",
    "    # Asignamos peso proporcional al R² (mejor rendimiento = mayor peso)\n",
    "    weights[name] = result['mean_r2']\n",
    "    total_weight += weights[name]\n",
    "\n",
    "# Normalizamos los pesos para que sumen 1\n",
    "for name in weights:\n",
    "    weights[name] = weights[name] / total_weight\n",
    "    print(f\"Peso asignado a {name}: {weights[name]:.4f}\")\n",
    "\n",
    "# Calculamos la predicción ponderada\n",
    "weighted_pred = np.zeros_like(y_test, dtype=float)\n",
    "for name, pred in predictions.items():\n",
    "    weighted_pred += weights[name] * pred"
   ]
  },
  {
   "cell_type": "code",
   "execution_count": 46,
   "metadata": {},
   "outputs": [
    {
     "name": "stdout",
     "output_type": "stream",
     "text": [
      "Resultados del Ensemble Ponderado:\n",
      "RMSE final: 1867.78 €\n",
      "MAE final: 1044.14 €\n",
      "MAPE final: 0.5946 %\n",
      "R² final: 0.957497\n",
      "\n",
      "Comparación con el mejor modelo anterior:\n",
      "R² anterior: 0.9785444932042743\n",
      "R² nuevo ensemble: 0.957497\n",
      "Mejora absoluta: -0.021048\n",
      "Mejora relativa: -2.1509%\n"
     ]
    }
   ],
   "source": [
    "# Evaluamos el rendimiento del ensemble ponderado\n",
    "final_rmse = np.sqrt(mean_squared_error(y_test, weighted_pred))\n",
    "final_mae = mean_absolute_error(y_test, weighted_pred)\n",
    "final_mape = mean_absolute_percentage_error(y_test, weighted_pred)\n",
    "final_r2 = r2_score(y_test, weighted_pred)\n",
    "\n",
    "print(\"Resultados del Ensemble Ponderado:\")\n",
    "print(f\"RMSE final: {final_rmse:.2f} €\")\n",
    "print(f\"MAE final: {final_mae:.2f} €\")\n",
    "print(f\"MAPE final: {final_mape:.4f} %\")\n",
    "print(f\"R² final: {final_r2:.6f}\")\n",
    "\n",
    "# Comparamos con tu mejor modelo anterior\n",
    "print(\"\\nComparación con el mejor modelo anterior:\")\n",
    "print(f\"R² anterior: 0.9785444932042743\")\n",
    "print(f\"R² nuevo ensemble: {final_r2:.6f}\")\n",
    "print(f\"Mejora absoluta: {final_r2 - 0.9785444932042743:.6f}\")\n",
    "print(f\"Mejora relativa: {(final_r2 - 0.9785444932042743) / 0.9785444932042743 * 100:.4f}%\")"
   ]
  },
  {
   "cell_type": "code",
   "execution_count": 47,
   "metadata": {},
   "outputs": [
    {
     "data": {
      "image/png": "[encoded data removed]",
      "text/plain": [
       "<Figure size 1200x800 with 1 Axes>"
      ]
     },
     "metadata": {},
     "output_type": "display_data"
    },
    {
     "name": "stdout",
     "output_type": "stream",
     "text": [
      "Las 10 características más importantes:\n",
      "1. power_per_age: 0.6426\n",
      "2. power: 0.0632\n",
      "3. km_per_year: 0.0312\n",
      "4. log_kms: 0.0209\n",
      "5. kms: 0.0209\n",
      "6. make_Mercedes-Benz: 0.0129\n",
      "7. model_Wrangler: 0.0096\n",
      "8. model_SpaceTourer: 0.0081\n",
      "9. shift_automatic: 0.0073\n",
      "10. shift_manual: 0.0067\n"
     ]
    }
   ],
   "source": [
    "# Extraemos la importancia de características del modelo RandomForest\n",
    "rf_pipeline = cv_results['RandomForest']['pipeline']\n",
    "rf_model = rf_pipeline.named_steps['model']\n",
    "\n",
    "# Obtenemos los nombres de las características después del procesamiento\n",
    "feature_names = (\n",
    "    numeric_features_extended + \n",
    "    list(rf_pipeline.named_steps['preprocessor']\n",
    "         .named_transformers_['cat']\n",
    "         .get_feature_names_out(categorical_features))\n",
    ")\n",
    "\n",
    "# Obtenemos los valores de importancia\n",
    "importances = rf_model.feature_importances_\n",
    "indices = np.argsort(importances)[::-1]\n",
    "\n",
    "# Visualizamos las 20 características más importantes\n",
    "plt.figure(figsize=(12, 8))\n",
    "plt.title('Importancia de características en RandomForest')\n",
    "plt.bar(range(min(20, len(importances))), importances[indices[:20]])\n",
    "plt.xticks(range(min(20, len(importances))), [feature_names[i] for i in indices[:20]], rotation=90)\n",
    "plt.tight_layout()\n",
    "plt.show()\n",
    "\n",
    "# Imprimimos las 10 características más importantes\n",
    "print(\"Las 10 características más importantes:\")\n",
    "for i in range(10):\n",
    "    print(f\"{i+1}. {feature_names[indices[i]]}: {importances[indices[i]]:.4f}\")"
   ]
  },
  {
   "cell_type": "code",
   "execution_count": 48,
   "metadata": {},
   "outputs": [
    {
     "name": "stdout",
     "output_type": "stream",
     "text": [
      "Los 10 casos con mayor error absoluto:\n",
      "       true_price  predicted_price         error  error_percentage\n",
      "36680         470     32995.601321  32525.601321       6920.340707\n",
      "36679         470     32995.601321  32525.601321       6920.340707\n",
      "23868       44999     19355.182354  25643.817646         56.987528\n",
      "23869       44999     19355.182354  25643.817646         56.987528\n",
      "65581         570     21943.060303  21373.060303       3749.659702\n",
      "46420         374     20012.269429  19638.269429       5250.874179\n",
      "38829         652     20012.269429  19360.269429       2969.366477\n",
      "24893         737     19670.186329  18933.186329       2568.953369\n",
      "32717         737     19670.186329  18933.186329       2568.953369\n",
      "24896         742     19670.186329  18928.186329       2550.968508\n",
      "\n",
      "Los 10 casos con mayor error porcentual:\n",
      "       true_price  predicted_price         error  error_percentage\n",
      "29301          20      3936.382904   3916.382904      19581.914521\n",
      "29303          20      3936.382904   3916.382904      19581.914521\n",
      "29306          20      3936.382904   3916.382904      19581.914521\n",
      "63031          20      3231.578380   3211.578380      16057.891899\n",
      "86753         150     15542.312254  15392.312254      10261.541503\n",
      "54850         149     11890.909128  11741.909128       7880.475925\n",
      "36680         470     32995.601321  32525.601321       6920.340707\n",
      "36679         470     32995.601321  32525.601321       6920.340707\n",
      "15291         245     16293.903681  16048.903681       6550.572931\n",
      "25016         223     13157.477330  12934.477330       5800.214050\n"
     ]
    },
    {
     "data": {
      "image/png": "[encoded data removed]",
      "text/plain": [
       "<Figure size 1000x600 with 1 Axes>"
      ]
     },
     "metadata": {},
     "output_type": "display_data"
    },
    {
     "data": {
      "image/png": "[encoded data removed]",
      "text/plain": [
       "<Figure size 1000x600 with 1 Axes>"
      ]
     },
     "metadata": {},
     "output_type": "display_data"
    }
   ],
   "source": [
    "# Analizamos en qué casos el modelo tiene mayor error\n",
    "errors = np.abs(y_test - weighted_pred)\n",
    "error_df = pd.DataFrame({\n",
    "    'true_price': y_test,\n",
    "    'predicted_price': weighted_pred,\n",
    "    'error': errors,\n",
    "    'error_percentage': errors / y_test * 100\n",
    "})\n",
    "\n",
    "# Ordenamos por error absoluto\n",
    "print(\"Los 10 casos con mayor error absoluto:\")\n",
    "print(error_df.sort_values('error', ascending=False).head(10))\n",
    "\n",
    "# Ordenamos por error porcentual\n",
    "print(\"\\nLos 10 casos con mayor error porcentual:\")\n",
    "print(error_df.sort_values('error_percentage', ascending=False).head(10))\n",
    "\n",
    "# Visualizamos la distribución de errores\n",
    "plt.figure(figsize=(10, 6))\n",
    "plt.hist(error_df['error'], bins=50)\n",
    "plt.title('Distribución de errores absolutos')\n",
    "plt.xlabel('Error (€)')\n",
    "plt.ylabel('Frecuencia')\n",
    "plt.show()\n",
    "\n",
    "# Visualizamos precio real vs predicción\n",
    "plt.figure(figsize=(10, 6))\n",
    "plt.scatter(y_test, weighted_pred, alpha=0.5)\n",
    "plt.plot([y_test.min(), y_test.max()], [y_test.min(), y_test.max()], 'k--')\n",
    "plt.title('Precio real vs Precio predicho')\n",
    "plt.xlabel('Precio real (€)')\n",
    "plt.ylabel('Precio predicho (€)')\n",
    "plt.show()"
   ]
  },
  {
   "cell_type": "code",
   "execution_count": null,
   "metadata": {},
   "outputs": [],
   "source": [
    "# Guardamos el modelo ensemble para uso futuro\n",
    "import pickle\n",
    "\n",
    "# Creamos un diccionario con todos los elementos necesarios para realizar predicciones\n",
    "model_package = {\n",
    "    'individual_models': cv_results,\n",
    "    'weights': weights,\n",
    "    'preprocessor': preprocessor,\n",
    "    'numeric_features_extended': numeric_features_extended,\n",
    "    'categorical_features': categorical_features\n",
    "}\n",
    "\n",
    "# Guardamos el paquete completo\n",
    "with open('modelo_coches_ensemble.pkl', 'wb') as f:\n",
    "    pickle.dump(model_package, f)\n",
    "\n",
    "print(\"Modelo guardado como 'modelo_coches_ensemble.pkl'\")"
   ]
  }
 ],
 "metadata": {
  "kernelspec": {
   "display_name": "base",
   "language": "python",
   "name": "python3"
  },
  "language_info": {
   "codemirror_mode": {
    "name": "ipython",
    "version": 3
   },
   "file_extension": ".py",
   "mimetype": "text/x-python",
   "name": "python",
   "nbconvert_exporter": "python",
   "pygments_lexer": "ipython3",
   "version": "3.12.4"
  }
 },
 "nbformat": 4,
 "nbformat_minor": 2
}
