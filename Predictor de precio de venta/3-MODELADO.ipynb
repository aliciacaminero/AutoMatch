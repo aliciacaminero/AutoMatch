{
 "cells": [
  {
   "cell_type": "code",
   "execution_count": 26,
   "metadata": {},
   "outputs": [],
   "source": [
    "import pandas as pd\n",
    "import numpy as np\n",
    "import seaborn as sns\n",
    "import matplotlib.pyplot as plt\n",
    "from sklearn.preprocessing import LabelEncoder\n",
    "from scipy import stats\n",
    "\n",
    "from sklearn.model_selection import train_test_split, GridSearchCV\n",
    "from sklearn.ensemble import RandomForestRegressor\n",
    "from sklearn.metrics import mean_squared_error, mean_absolute_error\n",
    "from sklearn.ensemble import GradientBoostingRegressor\n",
    "\n",
    "from sklearn.preprocessing import StandardScaler, OneHotEncoder\n",
    "from sklearn.compose import ColumnTransformer"
   ]
  },
  {
   "cell_type": "code",
   "execution_count": 27,
   "metadata": {},
   "outputs": [
    {
     "data": {
      "text/html": [
       "<div>\n",
       "<style scoped>\n",
       "    .dataframe tbody tr th:only-of-type {\n",
       "        vertical-align: middle;\n",
       "    }\n",
       "\n",
       "    .dataframe tbody tr th {\n",
       "        vertical-align: top;\n",
       "    }\n",
       "\n",
       "    .dataframe thead th {\n",
       "        text-align: right;\n",
       "    }\n",
       "</style>\n",
       "<table border=\"1\" class=\"dataframe\">\n",
       "  <thead>\n",
       "    <tr style=\"text-align: right;\">\n",
       "      <th></th>\n",
       "      <th>make</th>\n",
       "      <th>model</th>\n",
       "      <th>version</th>\n",
       "      <th>fuel</th>\n",
       "      <th>year</th>\n",
       "      <th>kms</th>\n",
       "      <th>power</th>\n",
       "      <th>shift</th>\n",
       "      <th>price</th>\n",
       "    </tr>\n",
       "  </thead>\n",
       "  <tbody>\n",
       "    <tr>\n",
       "      <th>0</th>\n",
       "      <td>Opel</td>\n",
       "      <td>Crossland</td>\n",
       "      <td>1.2 GAS 110 GS Line 5p S/S</td>\n",
       "      <td>Gasolina</td>\n",
       "      <td>2022</td>\n",
       "      <td>5.0</td>\n",
       "      <td>110.0</td>\n",
       "      <td>manual</td>\n",
       "      <td>22900</td>\n",
       "    </tr>\n",
       "    <tr>\n",
       "      <th>1</th>\n",
       "      <td>Opel</td>\n",
       "      <td>Crossland</td>\n",
       "      <td>1.2 81kW (110CV) GS Line</td>\n",
       "      <td>Gasolina</td>\n",
       "      <td>2022</td>\n",
       "      <td>24847.0</td>\n",
       "      <td>110.0</td>\n",
       "      <td>manual</td>\n",
       "      <td>19990</td>\n",
       "    </tr>\n",
       "    <tr>\n",
       "      <th>2</th>\n",
       "      <td>Opel</td>\n",
       "      <td>Crossland</td>\n",
       "      <td>1.5D 88kW (120CV) Business Elegance Auto</td>\n",
       "      <td>Diésel</td>\n",
       "      <td>2021</td>\n",
       "      <td>41356.0</td>\n",
       "      <td>120.0</td>\n",
       "      <td>automatic</td>\n",
       "      <td>18590</td>\n",
       "    </tr>\n",
       "    <tr>\n",
       "      <th>3</th>\n",
       "      <td>Opel</td>\n",
       "      <td>Crossland</td>\n",
       "      <td>GS-Line 1.2 GAS MT6 S/S 110cv</td>\n",
       "      <td>Gasolina</td>\n",
       "      <td>2022</td>\n",
       "      <td>11.0</td>\n",
       "      <td>110.0</td>\n",
       "      <td>manual</td>\n",
       "      <td>22700</td>\n",
       "    </tr>\n",
       "    <tr>\n",
       "      <th>4</th>\n",
       "      <td>Opel</td>\n",
       "      <td>Crossland</td>\n",
       "      <td>1.2 GS LINE 110 CV 5P</td>\n",
       "      <td>Gasolina</td>\n",
       "      <td>2021</td>\n",
       "      <td>51390.0</td>\n",
       "      <td>110.0</td>\n",
       "      <td>manual</td>\n",
       "      <td>18200</td>\n",
       "    </tr>\n",
       "    <tr>\n",
       "      <th>...</th>\n",
       "      <td>...</td>\n",
       "      <td>...</td>\n",
       "      <td>...</td>\n",
       "      <td>...</td>\n",
       "      <td>...</td>\n",
       "      <td>...</td>\n",
       "      <td>...</td>\n",
       "      <td>...</td>\n",
       "      <td>...</td>\n",
       "    </tr>\n",
       "    <tr>\n",
       "      <th>12448</th>\n",
       "      <td>Citroen</td>\n",
       "      <td>C4 Picasso</td>\n",
       "      <td>BlueHDi 88KW (120CV) Feel</td>\n",
       "      <td>Diésel</td>\n",
       "      <td>2017</td>\n",
       "      <td>71330.0</td>\n",
       "      <td>120.0</td>\n",
       "      <td>manual</td>\n",
       "      <td>18200</td>\n",
       "    </tr>\n",
       "    <tr>\n",
       "      <th>12449</th>\n",
       "      <td>Citroen</td>\n",
       "      <td>C4 Picasso</td>\n",
       "      <td>BlueHDi 150cv Exclusive</td>\n",
       "      <td>Diésel</td>\n",
       "      <td>2014</td>\n",
       "      <td>109350.0</td>\n",
       "      <td>150.0</td>\n",
       "      <td>manual</td>\n",
       "      <td>11690</td>\n",
       "    </tr>\n",
       "    <tr>\n",
       "      <th>12450</th>\n",
       "      <td>Citroen</td>\n",
       "      <td>C4 Picasso</td>\n",
       "      <td>PureTech SS 6v Live</td>\n",
       "      <td>Gasolina</td>\n",
       "      <td>2017</td>\n",
       "      <td>108697.0</td>\n",
       "      <td>130.0</td>\n",
       "      <td>manual</td>\n",
       "      <td>13199</td>\n",
       "    </tr>\n",
       "    <tr>\n",
       "      <th>12451</th>\n",
       "      <td>Citroen</td>\n",
       "      <td>C4 Picasso</td>\n",
       "      <td>Seduction</td>\n",
       "      <td>Diésel</td>\n",
       "      <td>2013</td>\n",
       "      <td>173035.0</td>\n",
       "      <td>111.0</td>\n",
       "      <td>automatic</td>\n",
       "      <td>9290</td>\n",
       "    </tr>\n",
       "    <tr>\n",
       "      <th>12452</th>\n",
       "      <td>Citroen</td>\n",
       "      <td>C4 Picasso</td>\n",
       "      <td>Millenium</td>\n",
       "      <td>Diésel</td>\n",
       "      <td>2012</td>\n",
       "      <td>178131.0</td>\n",
       "      <td>110.0</td>\n",
       "      <td>manual</td>\n",
       "      <td>7950</td>\n",
       "    </tr>\n",
       "  </tbody>\n",
       "</table>\n",
       "<p>12453 rows × 9 columns</p>\n",
       "</div>"
      ],
      "text/plain": [
       "          make       model                                   version  \\\n",
       "0         Opel   Crossland                1.2 GAS 110 GS Line 5p S/S   \n",
       "1         Opel   Crossland                  1.2 81kW (110CV) GS Line   \n",
       "2         Opel   Crossland  1.5D 88kW (120CV) Business Elegance Auto   \n",
       "3         Opel   Crossland             GS-Line 1.2 GAS MT6 S/S 110cv   \n",
       "4         Opel   Crossland                     1.2 GS LINE 110 CV 5P   \n",
       "...        ...         ...                                       ...   \n",
       "12448  Citroen  C4 Picasso                 BlueHDi 88KW (120CV) Feel   \n",
       "12449  Citroen  C4 Picasso                   BlueHDi 150cv Exclusive   \n",
       "12450  Citroen  C4 Picasso                       PureTech SS 6v Live   \n",
       "12451  Citroen  C4 Picasso                                 Seduction   \n",
       "12452  Citroen  C4 Picasso                                 Millenium   \n",
       "\n",
       "           fuel  year       kms  power      shift  price  \n",
       "0      Gasolina  2022       5.0  110.0     manual  22900  \n",
       "1      Gasolina  2022   24847.0  110.0     manual  19990  \n",
       "2        Diésel  2021   41356.0  120.0  automatic  18590  \n",
       "3      Gasolina  2022      11.0  110.0     manual  22700  \n",
       "4      Gasolina  2021   51390.0  110.0     manual  18200  \n",
       "...         ...   ...       ...    ...        ...    ...  \n",
       "12448    Diésel  2017   71330.0  120.0     manual  18200  \n",
       "12449    Diésel  2014  109350.0  150.0     manual  11690  \n",
       "12450  Gasolina  2017  108697.0  130.0     manual  13199  \n",
       "12451    Diésel  2013  173035.0  111.0  automatic   9290  \n",
       "12452    Diésel  2012  178131.0  110.0     manual   7950  \n",
       "\n",
       "[12453 rows x 9 columns]"
      ]
     },
     "execution_count": 27,
     "metadata": {},
     "output_type": "execute_result"
    }
   ],
   "source": [
    "# Cargar el dataset limpio del paso EDA\n",
    "df = pd.read_csv('https://raw.githubusercontent.com/aliciacaminero/Gemali_Cars/refs/heads/main/Predictor%20de%20precio%20de%20venta/df_EDA_predicprecio.csv')\n",
    "\n",
    "df"
   ]
  },
  {
   "cell_type": "code",
   "execution_count": 28,
   "metadata": {},
   "outputs": [
    {
     "data": {
      "text/plain": [
       "\"le_fuel = LabelEncoder()\\ndf['fuel'] = le_fuel.fit_transform(df['fuel'])\\n# 2 = Gasolina, 0 = Diesel, 1 = Electrico\\n\\nle_shift = LabelEncoder\\ndf['shift'] = le_fuel.fit_transform(df['shift'])\\n\\n# Crear el objeto LabelEncoder\\nle_make = LabelEncoder()\\n\\n# Codificar la columna 'make'\\ndf['make'] = le_make.fit_transform(df['make'])\\n\\n# Crear un LabelEncoder para la columna 'model'\\nle_model = LabelEncoder()\\n\\n# Aplicamos el LabelEncoder en la columna 'model'\\ndf['model'] = le_model.fit_transform(df['model'])\""
      ]
     },
     "execution_count": 28,
     "metadata": {},
     "output_type": "execute_result"
    }
   ],
   "source": [
    "'''le_fuel = LabelEncoder()\n",
    "df['fuel'] = le_fuel.fit_transform(df['fuel'])\n",
    "# 2 = Gasolina, 0 = Diesel, 1 = Electrico\n",
    "\n",
    "le_shift = LabelEncoder\n",
    "df['shift'] = le_fuel.fit_transform(df['shift'])\n",
    "\n",
    "# Crear el objeto LabelEncoder\n",
    "le_make = LabelEncoder()\n",
    "\n",
    "# Codificar la columna 'make'\n",
    "df['make'] = le_make.fit_transform(df['make'])\n",
    "\n",
    "# Crear un LabelEncoder para la columna 'model'\n",
    "le_model = LabelEncoder()\n",
    "\n",
    "# Aplicamos el LabelEncoder en la columna 'model'\n",
    "df['model'] = le_model.fit_transform(df['model'])'''"
   ]
  },
  {
   "cell_type": "code",
   "execution_count": 29,
   "metadata": {},
   "outputs": [],
   "source": [
    "# Definimos cuáles son las características numéricas, incluyendo las nuevas\n",
    "numeric_features = ['year', 'kms', 'power']\n",
    "categorical_features = ['fuel', 'shift', 'make', 'model']\n",
    "\n",
    "# Crear un diccionario para almacenar los codificadores\n",
    "label_encoders = {}\n",
    "\n",
    "# Lista de columnas a codificar -> categorical_features\n",
    "\n",
    "# Codificar cada columna y guardar el codificador\n",
    "for column in categorical_features:\n",
    "    le = LabelEncoder()  # Crear un nuevo LabelEncoder para cada columna\n",
    "    df[column] = le.fit_transform(df[column])  # Aplicamos la transformación a la columna\n",
    "    label_encoders[column] = le  # Guardamos el codificador en el diccionario\n"
   ]
  },
  {
   "cell_type": "code",
   "execution_count": 30,
   "metadata": {},
   "outputs": [],
   "source": [
    "# Características originales\n",
    "features = ['make', 'model', 'fuel', 'year', 'kms', 'shift', 'power']\n",
    "target = 'price'\n",
    "\n",
    "# Separamos en variables originales\n",
    "X = df[features].copy()\n",
    "y = df[target]"
   ]
  },
  {
   "cell_type": "code",
   "execution_count": 31,
   "metadata": {},
   "outputs": [],
   "source": [
    "\n",
    "\n",
    "# Detectamos outliers mediante Z-score\n",
    "# Calculamos los Z-scores para características numéricas\n",
    "#z_scores = stats.zscore(X[numeric_features])\n",
    "##abs_z_scores = np.abs(z_scores)\n",
    "\n",
    "# Consideramos outliers valores con Z-score > 3 (muy alejados de la media)\n",
    "#filtered_entries = (abs_z_scores < 3).all(axis=1)\n",
    "\n",
    "# Filtramos el dataset para eliminar los outliers\n",
    "#X_filtered = X[filtered_entries]\n",
    "#y_filtered = y[filtered_entries]\n",
    "\n",
    "# Comprobamos cuántos registros se eliminaron\n",
    "#print(f\"Registros originales: {len(X)}\")\n",
    "#print(f\"Registros después de eliminar outliers: {len(X_filtered)}\")\n",
    "#print(f\"Registros eliminados: {len(X) - len(X_filtered)} ({(len(X) - len(X_filtered))/len(X)*100:.2f}%)\")"
   ]
  },
  {
   "cell_type": "code",
   "execution_count": 32,
   "metadata": {},
   "outputs": [
    {
     "name": "stdout",
     "output_type": "stream",
     "text": [
      "X_train shape: (9962, 7)\n",
      "X_test shape: (2491, 7)\n",
      "y_train shape: (9962,)\n",
      "y_test shape: (2491,)\n"
     ]
    }
   ],
   "source": [
    "# Dividimos los datos en conjuntos de entrenamiento y prueba\n",
    "X_train, X_test, y_train, y_test = train_test_split(\n",
    "    X, y, test_size=0.2, random_state=42\n",
    ")\n",
    "\n",
    "# Verificamos las dimensiones de los conjuntos\n",
    "print(f\"X_train shape: {X_train.shape}\")\n",
    "print(f\"X_test shape: {X_test.shape}\")\n",
    "print(f\"y_train shape: {y_train.shape}\")\n",
    "print(f\"y_test shape: {y_test.shape}\")"
   ]
  },
  {
   "cell_type": "code",
   "execution_count": 33,
   "metadata": {},
   "outputs": [],
   "source": [
    "# Definimos el preprocesador para las características numéricas y categóricas\n",
    "preprocessor = ColumnTransformer(\n",
    "    transformers=[\n",
    "        # Estandarizamos variables numéricas (media 0, desviación 1)\n",
    "        ('num', StandardScaler(), numeric_features),\n",
    "        # Codificamos variables categóricas con one-hot encoding\n",
    "        ('cat', OneHotEncoder(handle_unknown='ignore'), categorical_features)\n",
    "    ])"
   ]
  },
  {
   "cell_type": "code",
   "execution_count": 34,
   "metadata": {},
   "outputs": [
    {
     "name": "stdout",
     "output_type": "stream",
     "text": [
      "Mean Absolute Error (MAE): 3276.7482710715954\n",
      "Mean Squared Error (MSE): 44112628.140074894\n",
      "R²: 0.9274120228278255\n"
     ]
    }
   ],
   "source": [
    "# Creamos el modelo de Random Forest\n",
    "rf_model = RandomForestRegressor(n_estimators=100, random_state=42)\n",
    "\n",
    "# Entrenamos el modelo con los datos de entrenamiento\n",
    "rf_model.fit(X_train , y_train)\n",
    "\n",
    "# Hacemos predicciones sobre el conjunto de prueba\n",
    "y_pred = rf_model.predict(X_test)\n",
    "\n",
    "# Suponiendo que tienes y_test (valores reales) y y_pred (predicciones del modelo)\n",
    "mae = mean_absolute_error(y_test, y_pred)\n",
    "mse = mean_squared_error(y_test, y_pred)\n",
    "\n",
    "print(f\"Mean Absolute Error (MAE): {mae}\")\n",
    "print(f\"Mean Squared Error (MSE): {mse}\")\n",
    "\n",
    "from sklearn.metrics import r2_score\n",
    "r2 = r2_score(y_test, y_pred)\n",
    "print(f\"R²: {r2}\")"
   ]
  },
  {
   "cell_type": "code",
   "execution_count": 35,
   "metadata": {},
   "outputs": [
    {
     "name": "stdout",
     "output_type": "stream",
     "text": [
      "['make', 'model', 'fuel', 'year', 'kms', 'shift', 'power']\n"
     ]
    }
   ],
   "source": [
    "# Mostrar las columnas utilizadas para el modelo\n",
    "columnas_utilizadas = X_train.columns.tolist()\n",
    "print(columnas_utilizadas)\n",
    "\n",
    "# target es price"
   ]
  },
  {
   "cell_type": "code",
   "execution_count": 36,
   "metadata": {},
   "outputs": [],
   "source": [
    "import joblib"
   ]
  },
  {
   "cell_type": "code",
   "execution_count": 37,
   "metadata": {},
   "outputs": [
    {
     "name": "stdout",
     "output_type": "stream",
     "text": [
      "Modelo y LabelEncoders guardados exitosamente.\n"
     ]
    }
   ],
   "source": [
    "# Guardar el modelo y los label encoders usando joblib\n",
    "joblib.dump({'model': rf_model, 'label_encoders': label_encoders}, 'model_with_encoders.joblib', compress=('zlib', 3))\n",
    "\n",
    "print(\"Modelo y LabelEncoders guardados exitosamente.\")"
   ]
  }
 ],
 "metadata": {
  "kernelspec": {
   "display_name": "Python 3",
   "language": "python",
   "name": "python3"
  },
  "language_info": {
   "codemirror_mode": {
    "name": "ipython",
    "version": 3
   },
   "file_extension": ".py",
   "mimetype": "text/x-python",
   "name": "python",
   "nbconvert_exporter": "python",
   "pygments_lexer": "ipython3",
   "version": "3.9.6"
  }
 },
 "nbformat": 4,
 "nbformat_minor": 2
}
